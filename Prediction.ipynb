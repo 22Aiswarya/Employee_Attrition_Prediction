{
 "cells": [
  {
   "cell_type": "markdown",
   "id": "48926c4a",
   "metadata": {},
   "source": [
    "### Employee attrition Prediction -Classification:"
   ]
  },
  {
   "cell_type": "code",
   "execution_count": 69,
   "id": "ce72b661",
   "metadata": {},
   "outputs": [],
   "source": [
    "import pandas as pd\n",
    "import numpy as np\n",
    "import seaborn as sns\n",
    "import matplotlib.pyplot as plt\n",
    "import warnings\n",
    "warnings.filterwarnings('ignore')\n"
   ]
  },
  {
   "cell_type": "code",
   "execution_count": 70,
   "id": "5b8a5a7c",
   "metadata": {
    "scrolled": false
   },
   "outputs": [
    {
     "data": {
      "text/html": [
       "<div>\n",
       "<style scoped>\n",
       "    .dataframe tbody tr th:only-of-type {\n",
       "        vertical-align: middle;\n",
       "    }\n",
       "\n",
       "    .dataframe tbody tr th {\n",
       "        vertical-align: top;\n",
       "    }\n",
       "\n",
       "    .dataframe thead th {\n",
       "        text-align: right;\n",
       "    }\n",
       "</style>\n",
       "<table border=\"1\" class=\"dataframe\">\n",
       "  <thead>\n",
       "    <tr style=\"text-align: right;\">\n",
       "      <th></th>\n",
       "      <th>Age</th>\n",
       "      <th>Attrition</th>\n",
       "      <th>BusinessTravel</th>\n",
       "      <th>DailyRate</th>\n",
       "      <th>Department</th>\n",
       "      <th>DistanceFromHome</th>\n",
       "      <th>Education</th>\n",
       "      <th>EducationField</th>\n",
       "      <th>EmployeeCount</th>\n",
       "      <th>EmployeeNumber</th>\n",
       "      <th>...</th>\n",
       "      <th>RelationshipSatisfaction</th>\n",
       "      <th>StandardHours</th>\n",
       "      <th>StockOptionLevel</th>\n",
       "      <th>TotalWorkingYears</th>\n",
       "      <th>TrainingTimesLastYear</th>\n",
       "      <th>WorkLifeBalance</th>\n",
       "      <th>YearsAtCompany</th>\n",
       "      <th>YearsInCurrentRole</th>\n",
       "      <th>YearsSinceLastPromotion</th>\n",
       "      <th>YearsWithCurrManager</th>\n",
       "    </tr>\n",
       "  </thead>\n",
       "  <tbody>\n",
       "    <tr>\n",
       "      <th>0</th>\n",
       "      <td>41</td>\n",
       "      <td>Yes</td>\n",
       "      <td>Travel_Rarely</td>\n",
       "      <td>1102</td>\n",
       "      <td>Sales</td>\n",
       "      <td>1</td>\n",
       "      <td>2</td>\n",
       "      <td>Life Sciences</td>\n",
       "      <td>1</td>\n",
       "      <td>1</td>\n",
       "      <td>...</td>\n",
       "      <td>1</td>\n",
       "      <td>80</td>\n",
       "      <td>0</td>\n",
       "      <td>8</td>\n",
       "      <td>0</td>\n",
       "      <td>1</td>\n",
       "      <td>6</td>\n",
       "      <td>4</td>\n",
       "      <td>0</td>\n",
       "      <td>5</td>\n",
       "    </tr>\n",
       "    <tr>\n",
       "      <th>1</th>\n",
       "      <td>49</td>\n",
       "      <td>No</td>\n",
       "      <td>Travel_Frequently</td>\n",
       "      <td>279</td>\n",
       "      <td>Research &amp; Development</td>\n",
       "      <td>8</td>\n",
       "      <td>1</td>\n",
       "      <td>Life Sciences</td>\n",
       "      <td>1</td>\n",
       "      <td>2</td>\n",
       "      <td>...</td>\n",
       "      <td>4</td>\n",
       "      <td>80</td>\n",
       "      <td>1</td>\n",
       "      <td>10</td>\n",
       "      <td>3</td>\n",
       "      <td>3</td>\n",
       "      <td>10</td>\n",
       "      <td>7</td>\n",
       "      <td>1</td>\n",
       "      <td>7</td>\n",
       "    </tr>\n",
       "    <tr>\n",
       "      <th>2</th>\n",
       "      <td>37</td>\n",
       "      <td>Yes</td>\n",
       "      <td>Travel_Rarely</td>\n",
       "      <td>1373</td>\n",
       "      <td>Research &amp; Development</td>\n",
       "      <td>2</td>\n",
       "      <td>2</td>\n",
       "      <td>Other</td>\n",
       "      <td>1</td>\n",
       "      <td>4</td>\n",
       "      <td>...</td>\n",
       "      <td>2</td>\n",
       "      <td>80</td>\n",
       "      <td>0</td>\n",
       "      <td>7</td>\n",
       "      <td>3</td>\n",
       "      <td>3</td>\n",
       "      <td>0</td>\n",
       "      <td>0</td>\n",
       "      <td>0</td>\n",
       "      <td>0</td>\n",
       "    </tr>\n",
       "    <tr>\n",
       "      <th>3</th>\n",
       "      <td>33</td>\n",
       "      <td>No</td>\n",
       "      <td>Travel_Frequently</td>\n",
       "      <td>1392</td>\n",
       "      <td>Research &amp; Development</td>\n",
       "      <td>3</td>\n",
       "      <td>4</td>\n",
       "      <td>Life Sciences</td>\n",
       "      <td>1</td>\n",
       "      <td>5</td>\n",
       "      <td>...</td>\n",
       "      <td>3</td>\n",
       "      <td>80</td>\n",
       "      <td>0</td>\n",
       "      <td>8</td>\n",
       "      <td>3</td>\n",
       "      <td>3</td>\n",
       "      <td>8</td>\n",
       "      <td>7</td>\n",
       "      <td>3</td>\n",
       "      <td>0</td>\n",
       "    </tr>\n",
       "    <tr>\n",
       "      <th>4</th>\n",
       "      <td>27</td>\n",
       "      <td>No</td>\n",
       "      <td>Travel_Rarely</td>\n",
       "      <td>591</td>\n",
       "      <td>Research &amp; Development</td>\n",
       "      <td>2</td>\n",
       "      <td>1</td>\n",
       "      <td>Medical</td>\n",
       "      <td>1</td>\n",
       "      <td>7</td>\n",
       "      <td>...</td>\n",
       "      <td>4</td>\n",
       "      <td>80</td>\n",
       "      <td>1</td>\n",
       "      <td>6</td>\n",
       "      <td>3</td>\n",
       "      <td>3</td>\n",
       "      <td>2</td>\n",
       "      <td>2</td>\n",
       "      <td>2</td>\n",
       "      <td>2</td>\n",
       "    </tr>\n",
       "  </tbody>\n",
       "</table>\n",
       "<p>5 rows × 35 columns</p>\n",
       "</div>"
      ],
      "text/plain": [
       "   Age Attrition     BusinessTravel  DailyRate              Department  \\\n",
       "0   41       Yes      Travel_Rarely       1102                   Sales   \n",
       "1   49        No  Travel_Frequently        279  Research & Development   \n",
       "2   37       Yes      Travel_Rarely       1373  Research & Development   \n",
       "3   33        No  Travel_Frequently       1392  Research & Development   \n",
       "4   27        No      Travel_Rarely        591  Research & Development   \n",
       "\n",
       "   DistanceFromHome  Education EducationField  EmployeeCount  EmployeeNumber  \\\n",
       "0                 1          2  Life Sciences              1               1   \n",
       "1                 8          1  Life Sciences              1               2   \n",
       "2                 2          2          Other              1               4   \n",
       "3                 3          4  Life Sciences              1               5   \n",
       "4                 2          1        Medical              1               7   \n",
       "\n",
       "   ...  RelationshipSatisfaction StandardHours  StockOptionLevel  \\\n",
       "0  ...                         1            80                 0   \n",
       "1  ...                         4            80                 1   \n",
       "2  ...                         2            80                 0   \n",
       "3  ...                         3            80                 0   \n",
       "4  ...                         4            80                 1   \n",
       "\n",
       "   TotalWorkingYears  TrainingTimesLastYear WorkLifeBalance  YearsAtCompany  \\\n",
       "0                  8                      0               1               6   \n",
       "1                 10                      3               3              10   \n",
       "2                  7                      3               3               0   \n",
       "3                  8                      3               3               8   \n",
       "4                  6                      3               3               2   \n",
       "\n",
       "  YearsInCurrentRole  YearsSinceLastPromotion  YearsWithCurrManager  \n",
       "0                  4                        0                     5  \n",
       "1                  7                        1                     7  \n",
       "2                  0                        0                     0  \n",
       "3                  7                        3                     0  \n",
       "4                  2                        2                     2  \n",
       "\n",
       "[5 rows x 35 columns]"
      ]
     },
     "execution_count": 70,
     "metadata": {},
     "output_type": "execute_result"
    }
   ],
   "source": [
    "df=pd.read_csv(r'C:\\Users\\Aishwarya\\Desktop\\FINAL PROJECT\\IMPLEMENTATION\\employee_attrition.csv.csv')\n",
    "df.head()\n"
   ]
  },
  {
   "cell_type": "code",
   "execution_count": 71,
   "id": "c275368d",
   "metadata": {},
   "outputs": [
    {
     "data": {
      "text/plain": [
       "(1470, 35)"
      ]
     },
     "execution_count": 71,
     "metadata": {},
     "output_type": "execute_result"
    }
   ],
   "source": [
    "df.shape"
   ]
  },
  {
   "cell_type": "code",
   "execution_count": 59,
   "id": "cce24b6f",
   "metadata": {},
   "outputs": [
    {
     "data": {
      "text/plain": [
       "Age                         0.413286\n",
       "DailyRate                  -0.003519\n",
       "DistanceFromHome            0.958118\n",
       "Education                  -0.289681\n",
       "EmployeeCount               0.000000\n",
       "EmployeeNumber              0.016574\n",
       "EnvironmentSatisfaction    -0.321654\n",
       "HourlyRate                 -0.032311\n",
       "JobInvolvement             -0.498419\n",
       "JobLevel                    1.025401\n",
       "JobSatisfaction            -0.329672\n",
       "MonthlyIncome               1.369817\n",
       "MonthlyRate                 0.018578\n",
       "NumCompaniesWorked          1.026471\n",
       "PercentSalaryHike           0.821128\n",
       "PerformanceRating           1.921883\n",
       "RelationshipSatisfaction   -0.302828\n",
       "StandardHours               0.000000\n",
       "StockOptionLevel            0.968980\n",
       "TotalWorkingYears           1.117172\n",
       "TrainingTimesLastYear       0.553124\n",
       "WorkLifeBalance            -0.552480\n",
       "YearsAtCompany              1.764529\n",
       "YearsInCurrentRole          0.917363\n",
       "YearsSinceLastPromotion     1.984290\n",
       "YearsWithCurrManager        0.833451\n",
       "dtype: float64"
      ]
     },
     "execution_count": 59,
     "metadata": {},
     "output_type": "execute_result"
    }
   ],
   "source": [
    "df.skew()"
   ]
  },
  {
   "cell_type": "markdown",
   "id": "a18839e2",
   "metadata": {},
   "source": [
    "**There are more skewness in some of the datasets.**"
   ]
  },
  {
   "cell_type": "code",
   "execution_count": 60,
   "id": "29335f41",
   "metadata": {},
   "outputs": [
    {
     "data": {
      "text/plain": [
       "Age                         0\n",
       "Attrition                   0\n",
       "BusinessTravel              0\n",
       "DailyRate                   0\n",
       "Department                  0\n",
       "DistanceFromHome            0\n",
       "Education                   0\n",
       "EducationField              0\n",
       "EmployeeCount               0\n",
       "EmployeeNumber              0\n",
       "EnvironmentSatisfaction     0\n",
       "Gender                      0\n",
       "HourlyRate                  0\n",
       "JobInvolvement              0\n",
       "JobLevel                    0\n",
       "JobRole                     0\n",
       "JobSatisfaction             0\n",
       "MaritalStatus               0\n",
       "MonthlyIncome               0\n",
       "MonthlyRate                 0\n",
       "NumCompaniesWorked          0\n",
       "Over18                      0\n",
       "OverTime                    0\n",
       "PercentSalaryHike           0\n",
       "PerformanceRating           0\n",
       "RelationshipSatisfaction    0\n",
       "StandardHours               0\n",
       "StockOptionLevel            0\n",
       "TotalWorkingYears           0\n",
       "TrainingTimesLastYear       0\n",
       "WorkLifeBalance             0\n",
       "YearsAtCompany              0\n",
       "YearsInCurrentRole          0\n",
       "YearsSinceLastPromotion     0\n",
       "YearsWithCurrManager        0\n",
       "dtype: int64"
      ]
     },
     "execution_count": 60,
     "metadata": {},
     "output_type": "execute_result"
    }
   ],
   "source": [
    "# Checkign for null values\n",
    "df.isnull().sum()"
   ]
  },
  {
   "cell_type": "markdown",
   "id": "ee699a14",
   "metadata": {},
   "source": [
    "**There are no null values**"
   ]
  },
  {
   "cell_type": "code",
   "execution_count": 61,
   "id": "d6cb9c11",
   "metadata": {},
   "outputs": [
    {
     "data": {
      "image/png": "[encoded data removed]",
      "text/plain": [
       "<Figure size 864x576 with 8 Axes>"
      ]
     },
     "metadata": {
      "needs_background": "light"
     },
     "output_type": "display_data"
    }
   ],
   "source": [
    "total_records= len(df)\n",
    "columns = [\"Gender\",\"MaritalStatus\",\"WorkLifeBalance\",\"EnvironmentSatisfaction\",\"JobSatisfaction\",\n",
    "           \"JobLevel\",\"BusinessTravel\",\"Department\"]\n",
    "plt.figure(figsize=(12,8))\n",
    "j=0\n",
    "for i in columns:\n",
    "    j +=1\n",
    "    plt.subplot(4,2,j)\n",
    "    #sns.countplot(hrdata[i])\n",
    "    ax1 = sns.countplot(data=df,x= i,hue=\"Attrition\")\n",
    "    if(j==8 or j== 7):\n",
    "        plt.xticks( rotation=90)\n",
    "    for p in ax1.patches:\n",
    "        height = p.get_height()\n",
    "        ax1.text(p.get_x()+p.get_width()/2.,\n",
    "                height + 3,\n",
    "                '{:1.2f}'.format(height/total_records,0),\n",
    "                ha=\"center\",rotation=0) \n",
    "# Custom the subplot layout\n",
    "plt.subplots_adjust(bottom=-0.9, top=2)\n",
    "plt.show()"
   ]
  },
  {
   "cell_type": "markdown",
   "id": "f7fea180",
   "metadata": {},
   "source": [
    "### Observation of above Count Plot Graph\n",
    "High attrition rate in given attribute\n",
    "\n",
    "- Single attrition rate is 50% in marital status.\n",
    "- Job Level -1 attrition rate is also high comapre to other job levels\n",
    "- EnvironmentSatisfaction Level 1 has high attrition rate.\n",
    "- Attrition raltes are high in these attribute Sales Deparment, Male,Jobsatisfaction 1"
   ]
  },
  {
   "cell_type": "code",
   "execution_count": 6,
   "id": "ccf1b823",
   "metadata": {},
   "outputs": [
    {
     "data": {
      "text/plain": [
       "<seaborn.axisgrid.FacetGrid at 0x1a713eb86d0>"
      ]
     },
     "execution_count": 6,
     "metadata": {},
     "output_type": "execute_result"
    },
    {
     "data": {
      "image/png": "[encoded data removed]",
      "text/plain": [
       "<Figure size 1080x360 with 1 Axes>"
      ]
     },
     "metadata": {
      "needs_background": "light"
     },
     "output_type": "display_data"
    }
   ],
   "source": [
    "sns.factorplot(data = df, kind = 'count', aspect = 3, size = 5, x = 'Attrition')"
   ]
  },
  {
   "cell_type": "markdown",
   "id": "40ed7929",
   "metadata": {},
   "source": [
    "**The above taken dataset is highly imbalanced one.**"
   ]
  },
  {
   "cell_type": "code",
   "execution_count": 7,
   "id": "edd69386",
   "metadata": {},
   "outputs": [
    {
     "data": {
      "text/plain": [
       "<AxesSubplot:>"
      ]
     },
     "execution_count": 7,
     "metadata": {},
     "output_type": "execute_result"
    },
    {
     "data": {
      "image/png": "[encoded data removed]",
      "text/plain": [
       "<Figure size 1800x1296 with 2 Axes>"
      ]
     },
     "metadata": {
      "needs_background": "light"
     },
     "output_type": "display_data"
    }
   ],
   "source": [
    "plt.figure(figsize=(25,18))\n",
    "sns.heatmap(df.corr(),annot=True)"
   ]
  },
  {
   "cell_type": "markdown",
   "id": "1ecded47",
   "metadata": {},
   "source": [
    "**It can be see that there is high correlation between independent features such as (performace rating and percentage salary hike), (total working years and job level) etc, this situation can lead to multicollinearity which we need to take care of.**"
   ]
  },
  {
   "cell_type": "markdown",
   "id": "c7677e69",
   "metadata": {},
   "source": [
    "### Feature Engineering"
   ]
  },
  {
   "cell_type": "code",
   "execution_count": 62,
   "id": "dd3b59d1",
   "metadata": {},
   "outputs": [],
   "source": [
    "df.drop(['EmployeeNumber','StandardHours','Over18','EmployeeCount'],axis=1,inplace=True)"
   ]
  },
  {
   "cell_type": "code",
   "execution_count": 63,
   "id": "8b593573",
   "metadata": {},
   "outputs": [],
   "source": [
    "from sklearn.preprocessing import LabelEncoder,OrdinalEncoder\n",
    "o=OrdinalEncoder()\n",
    "l=LabelEncoder()"
   ]
  },
  {
   "cell_type": "markdown",
   "id": "c6cbd440",
   "metadata": {},
   "source": [
    "**LABEL ENCODING:**"
   ]
  },
  {
   "cell_type": "code",
   "execution_count": 64,
   "id": "435b5ab6",
   "metadata": {},
   "outputs": [],
   "source": [
    "#Encoding independent features with ordinal encoder\n",
    "for i in df.columns:\n",
    "    if df[i].dtypes=='O' and i!='Attrition':\n",
    "        df[i]=o.fit_transform(df[i].values.reshape(-1,1))\n",
    "\n",
    "#Encoding label column with label encoder\n",
    "df['Attrition']=l.fit_transform(df['Attrition'])"
   ]
  },
  {
   "cell_type": "markdown",
   "id": "855aa5c3",
   "metadata": {},
   "source": [
    "**Removing Outliers**"
   ]
  },
  {
   "cell_type": "code",
   "execution_count": 65,
   "id": "e2d6aa1a",
   "metadata": {},
   "outputs": [],
   "source": [
    "def outliersz(z):\n",
    "    for i in np.arange(3,5,0.2):\n",
    "        data=df.copy()\n",
    "        data=data[(z<i).all(axis=1)]\n",
    "        loss=(df.shape[0]-data.shape[0])/df.shape[0]*100\n",
    "        print('With threshold {} data loss is {}%'.format(np.round(i,1),np.round(loss,2)))"
   ]
  },
  {
   "cell_type": "code",
   "execution_count": 66,
   "id": "9a35db88",
   "metadata": {},
   "outputs": [
    {
     "name": "stdout",
     "output_type": "stream",
     "text": [
      "With threshold 3.0 data loss is 5.65%\n",
      "With threshold 3.2 data loss is 4.22%\n",
      "With threshold 3.4 data loss is 3.13%\n",
      "With threshold 3.6 data loss is 2.72%\n",
      "With threshold 3.8 data loss is 1.77%\n",
      "With threshold 4.0 data loss is 0.88%\n",
      "With threshold 4.2 data loss is 0.68%\n",
      "With threshold 4.4 data loss is 0.34%\n",
      "With threshold 4.6 data loss is 0.27%\n",
      "With threshold 4.8 data loss is 0.14%\n"
     ]
    }
   ],
   "source": [
    "#Using zscore method to remove outliers\n",
    "from scipy.stats import zscore\n",
    "z=np.abs(zscore(df))\n",
    "outliersz(z)"
   ]
  },
  {
   "cell_type": "code",
   "execution_count": 67,
   "id": "6c529e89",
   "metadata": {},
   "outputs": [],
   "source": [
    "df=df[(z<4.8).all(axis=1)]"
   ]
  },
  {
   "cell_type": "code",
   "execution_count": 68,
   "id": "3fb935b5",
   "metadata": {},
   "outputs": [
    {
     "data": {
      "text/plain": [
       "(1468, 31)"
      ]
     },
     "execution_count": 68,
     "metadata": {},
     "output_type": "execute_result"
    }
   ],
   "source": [
    "df.shape"
   ]
  },
  {
   "cell_type": "markdown",
   "id": "d3956f53",
   "metadata": {},
   "source": [
    "**Removing Skewness from Data**"
   ]
  },
  {
   "cell_type": "code",
   "execution_count": 14,
   "id": "17513339",
   "metadata": {},
   "outputs": [],
   "source": [
    "# square root method to remove method for all the continuous variables except for monthly income as it is incapable of it.\n",
    "for i in df.columns:\n",
    "    if np.abs(df[i].skew())>0.5 and i!='MonthlyIncome':\n",
    "        df[i]=np.sqrt(df[i])"
   ]
  },
  {
   "cell_type": "code",
   "execution_count": 15,
   "id": "08e5ba36",
   "metadata": {},
   "outputs": [],
   "source": [
    "#Using log method to remove skewness from Monthly income\n",
    "df['MonthlyIncome']=np.log(df['MonthlyIncome'])"
   ]
  },
  {
   "cell_type": "code",
   "execution_count": 16,
   "id": "3df1b497",
   "metadata": {
    "scrolled": true
   },
   "outputs": [
    {
     "data": {
      "text/plain": [
       "Index(['Age', 'Attrition', 'BusinessTravel', 'DailyRate', 'Department',\n",
       "       'DistanceFromHome', 'Education', 'EducationField',\n",
       "       'EnvironmentSatisfaction', 'Gender', 'HourlyRate', 'JobInvolvement',\n",
       "       'JobLevel', 'JobRole', 'JobSatisfaction', 'MaritalStatus',\n",
       "       'MonthlyIncome', 'MonthlyRate', 'NumCompaniesWorked', 'OverTime',\n",
       "       'PercentSalaryHike', 'PerformanceRating', 'RelationshipSatisfaction',\n",
       "       'StockOptionLevel', 'TotalWorkingYears', 'TrainingTimesLastYear',\n",
       "       'WorkLifeBalance', 'YearsAtCompany', 'YearsInCurrentRole',\n",
       "       'YearsSinceLastPromotion', 'YearsWithCurrManager'],\n",
       "      dtype='object')"
      ]
     },
     "execution_count": 16,
     "metadata": {},
     "output_type": "execute_result"
    }
   ],
   "source": [
    "df.columns"
   ]
  },
  {
   "cell_type": "markdown",
   "id": "2b6787b5",
   "metadata": {},
   "source": [
    "**Separating the dependent and independent variables**"
   ]
  },
  {
   "cell_type": "code",
   "execution_count": 17,
   "id": "58527751",
   "metadata": {},
   "outputs": [],
   "source": [
    "x=df.copy()\n",
    "x.drop('Attrition',axis=1,inplace=True)\n",
    "y=df['Attrition']"
   ]
  },
  {
   "cell_type": "code",
   "execution_count": 18,
   "id": "e9dceee2",
   "metadata": {},
   "outputs": [],
   "source": [
    "#Scaling the data using min max scaler\n",
    "from sklearn.preprocessing import MinMaxScaler\n",
    "scaler=MinMaxScaler()"
   ]
  },
  {
   "cell_type": "code",
   "execution_count": 19,
   "id": "a2d975ff",
   "metadata": {},
   "outputs": [],
   "source": [
    "xd=scaler.fit_transform(x)\n",
    "x=pd.DataFrame(xd,columns=x.columns)"
   ]
  },
  {
   "cell_type": "markdown",
   "id": "47cd0b18",
   "metadata": {},
   "source": [
    "### Modelling without balancing:"
   ]
  },
  {
   "cell_type": "code",
   "execution_count": 20,
   "id": "b1802d4a",
   "metadata": {},
   "outputs": [],
   "source": [
    "from sklearn.naive_bayes import  GaussianNB\n",
    "from sklearn.neighbors import KNeighborsClassifier\n",
    "from sklearn.svm import SVC\n",
    "from sklearn.linear_model import LogisticRegression\n",
    "from sklearn.tree import DecisionTreeClassifier\n",
    "from sklearn.ensemble import RandomForestClassifier\n",
    "from sklearn.ensemble import AdaBoostClassifier\n",
    "from sklearn.ensemble import GradientBoostingClassifier\n",
    "from xgboost import XGBClassifier\n",
    "from sklearn.ensemble import ExtraTreesClassifier"
   ]
  },
  {
   "cell_type": "code",
   "execution_count": 21,
   "id": "c3702fda",
   "metadata": {},
   "outputs": [],
   "source": [
    "from sklearn.model_selection import train_test_split, cross_val_score\n",
    "from sklearn.metrics import accuracy_score,confusion_matrix,classification_report,roc_auc_score,roc_curve"
   ]
  },
  {
   "cell_type": "code",
   "execution_count": 22,
   "id": "113d9754",
   "metadata": {},
   "outputs": [],
   "source": [
    "#Function to find the best random state\n",
    "def randomstate(x,y):\n",
    "    maxx=0\n",
    "    model=LogisticRegression()\n",
    "    for i in range(1,201):\n",
    "        xtrain,xtest,ytrain,ytest=train_test_split(x,y,test_size=0.25,random_state=i)\n",
    "        model.fit(xtrain,ytrain)\n",
    "        p=model.predict(xtest)\n",
    "        accu=accuracy_score(p,ytest)\n",
    "        if accu>maxx:\n",
    "            maxx=accu\n",
    "            j=i\n",
    "    return j"
   ]
  },
  {
   "cell_type": "code",
   "execution_count": 23,
   "id": "7ef903b0",
   "metadata": {
    "scrolled": true
   },
   "outputs": [],
   "source": [
    "#Splitting data into train and test\n",
    "xtrain,xtest,ytrain,ytest=train_test_split(x,y,test_size=0.25,random_state=randomstate(x,y))"
   ]
  },
  {
   "cell_type": "code",
   "execution_count": 24,
   "id": "61f486dd",
   "metadata": {},
   "outputs": [],
   "source": [
    "#Creating a list of models which will be created one by one\n",
    "models=[GaussianNB(),KNeighborsClassifier(),SVC(probability=True),LogisticRegression(),DecisionTreeClassifier(),\n",
    "        RandomForestClassifier(),AdaBoostClassifier(),GradientBoostingClassifier(),XGBClassifier(verbosity=0),ExtraTreesClassifier()]"
   ]
  },
  {
   "cell_type": "code",
   "execution_count": 25,
   "id": "37badd32",
   "metadata": {},
   "outputs": [],
   "source": [
    "#To evakuate performances of all the models\n",
    "def performance(p,ytest,m,xtest,s):\n",
    "    print('------------------------------------',m,'------------------------------------')\n",
    "    print('Accuracy',np.round(accuracy_score(p,ytest),4))\n",
    "    print('----------------------------------------------------------')\n",
    "    print('Mean of Cross Validation Score',np.round(s.mean(),4))\n",
    "    print('----------------------------------------------------------')\n",
    "    print('AUC_ROC Score',np.round(roc_auc_score(ytest,m.predict_proba(xtest)[:,1]),4))\n",
    "    print('----------------------------------------------------------')\n",
    "    print('Confusion Matrix')\n",
    "    print(confusion_matrix(p,ytest))\n",
    "    print('----------------------------------------------------------')\n",
    "    print('Classification Report')\n",
    "    print(classification_report(p,ytest))"
   ]
  },
  {
   "cell_type": "code",
   "execution_count": 26,
   "id": "7c0fd45c",
   "metadata": {},
   "outputs": [],
   "source": [
    "#Creates and trains model from the models list\n",
    "def createmodel(trainx,testx,trainy,testy):\n",
    "    for i in models:\n",
    "        model=i\n",
    "        model.fit(trainx,trainy)\n",
    "        p=model.predict(testx)\n",
    "        score=cross_val_score(model,x,y,cv=10)\n",
    "        performance(p,testy,model,testx,score)\n"
   ]
  },
  {
   "cell_type": "code",
   "execution_count": null,
   "id": "03729a01",
   "metadata": {},
   "outputs": [],
   "source": []
  },
  {
   "cell_type": "code",
   "execution_count": 27,
   "id": "4496e5d3",
   "metadata": {},
   "outputs": [
    {
     "name": "stdout",
     "output_type": "stream",
     "text": [
      "------------------------------------ GaussianNB() ------------------------------------\n",
      "Accuracy 0.8283\n",
      "----------------------------------------------------------\n",
      "Mean of Cross Validation Score 0.8161\n",
      "----------------------------------------------------------\n",
      "AUC_ROC Score 0.7917\n",
      "----------------------------------------------------------\n",
      "Confusion Matrix\n",
      "[[271  22]\n",
      " [ 41  33]]\n",
      "----------------------------------------------------------\n",
      "Classification Report\n",
      "              precision    recall  f1-score   support\n",
      "\n",
      "         0.0       0.87      0.92      0.90       293\n",
      "         1.0       0.60      0.45      0.51        74\n",
      "\n",
      "    accuracy                           0.83       367\n",
      "   macro avg       0.73      0.69      0.70       367\n",
      "weighted avg       0.81      0.83      0.82       367\n",
      "\n",
      "------------------------------------ KNeighborsClassifier() ------------------------------------\n",
      "Accuracy 0.861\n",
      "----------------------------------------------------------\n",
      "Mean of Cross Validation Score 0.8488\n",
      "----------------------------------------------------------\n",
      "AUC_ROC Score 0.7269\n",
      "----------------------------------------------------------\n",
      "Confusion Matrix\n",
      "[[306  45]\n",
      " [  6  10]]\n",
      "----------------------------------------------------------\n",
      "Classification Report\n",
      "              precision    recall  f1-score   support\n",
      "\n",
      "         0.0       0.98      0.87      0.92       351\n",
      "         1.0       0.18      0.62      0.28        16\n",
      "\n",
      "    accuracy                           0.86       367\n",
      "   macro avg       0.58      0.75      0.60       367\n",
      "weighted avg       0.95      0.86      0.90       367\n",
      "\n",
      "------------------------------------ SVC(probability=True) ------------------------------------\n",
      "Accuracy 0.8801\n",
      "----------------------------------------------------------\n",
      "Mean of Cross Validation Score 0.8658\n",
      "----------------------------------------------------------\n",
      "AUC_ROC Score 0.8503\n",
      "----------------------------------------------------------\n",
      "Confusion Matrix\n",
      "[[308  40]\n",
      " [  4  15]]\n",
      "----------------------------------------------------------\n",
      "Classification Report\n",
      "              precision    recall  f1-score   support\n",
      "\n",
      "         0.0       0.99      0.89      0.93       348\n",
      "         1.0       0.27      0.79      0.41        19\n",
      "\n",
      "    accuracy                           0.88       367\n",
      "   macro avg       0.63      0.84      0.67       367\n",
      "weighted avg       0.95      0.88      0.91       367\n",
      "\n",
      "------------------------------------ LogisticRegression() ------------------------------------\n",
      "Accuracy 0.9128\n",
      "----------------------------------------------------------\n",
      "Mean of Cross Validation Score 0.8794\n",
      "----------------------------------------------------------\n",
      "AUC_ROC Score 0.8693\n",
      "----------------------------------------------------------\n",
      "Confusion Matrix\n",
      "[[305  25]\n",
      " [  7  30]]\n",
      "----------------------------------------------------------\n",
      "Classification Report\n",
      "              precision    recall  f1-score   support\n",
      "\n",
      "         0.0       0.98      0.92      0.95       330\n",
      "         1.0       0.55      0.81      0.65        37\n",
      "\n",
      "    accuracy                           0.91       367\n",
      "   macro avg       0.76      0.87      0.80       367\n",
      "weighted avg       0.93      0.91      0.92       367\n",
      "\n",
      "------------------------------------ DecisionTreeClassifier() ------------------------------------\n",
      "Accuracy 0.7847\n",
      "----------------------------------------------------------\n",
      "Mean of Cross Validation Score 0.8072\n",
      "----------------------------------------------------------\n",
      "AUC_ROC Score 0.6338\n",
      "----------------------------------------------------------\n",
      "Confusion Matrix\n",
      "[[265  32]\n",
      " [ 47  23]]\n",
      "----------------------------------------------------------\n",
      "Classification Report\n",
      "              precision    recall  f1-score   support\n",
      "\n",
      "         0.0       0.85      0.89      0.87       297\n",
      "         1.0       0.42      0.33      0.37        70\n",
      "\n",
      "    accuracy                           0.78       367\n",
      "   macro avg       0.63      0.61      0.62       367\n",
      "weighted avg       0.77      0.78      0.77       367\n",
      "\n",
      "------------------------------------ RandomForestClassifier() ------------------------------------\n",
      "Accuracy 0.8719\n",
      "----------------------------------------------------------\n",
      "Mean of Cross Validation Score 0.8576\n",
      "----------------------------------------------------------\n",
      "AUC_ROC Score 0.7819\n",
      "----------------------------------------------------------\n",
      "Confusion Matrix\n",
      "[[308  43]\n",
      " [  4  12]]\n",
      "----------------------------------------------------------\n",
      "Classification Report\n",
      "              precision    recall  f1-score   support\n",
      "\n",
      "         0.0       0.99      0.88      0.93       351\n",
      "         1.0       0.22      0.75      0.34        16\n",
      "\n",
      "    accuracy                           0.87       367\n",
      "   macro avg       0.60      0.81      0.63       367\n",
      "weighted avg       0.95      0.87      0.90       367\n",
      "\n",
      "------------------------------------ AdaBoostClassifier() ------------------------------------\n",
      "Accuracy 0.9019\n",
      "----------------------------------------------------------\n",
      "Mean of Cross Validation Score 0.8795\n",
      "----------------------------------------------------------\n",
      "AUC_ROC Score 0.8539\n",
      "----------------------------------------------------------\n",
      "Confusion Matrix\n",
      "[[308  32]\n",
      " [  4  23]]\n",
      "----------------------------------------------------------\n",
      "Classification Report\n",
      "              precision    recall  f1-score   support\n",
      "\n",
      "         0.0       0.99      0.91      0.94       340\n",
      "         1.0       0.42      0.85      0.56        27\n",
      "\n",
      "    accuracy                           0.90       367\n",
      "   macro avg       0.70      0.88      0.75       367\n",
      "weighted avg       0.95      0.90      0.92       367\n",
      "\n",
      "------------------------------------ GradientBoostingClassifier() ------------------------------------\n",
      "Accuracy 0.8856\n",
      "----------------------------------------------------------\n",
      "Mean of Cross Validation Score 0.8672\n",
      "----------------------------------------------------------\n",
      "AUC_ROC Score 0.8336\n",
      "----------------------------------------------------------\n",
      "Confusion Matrix\n",
      "[[304  34]\n",
      " [  8  21]]\n",
      "----------------------------------------------------------\n",
      "Classification Report\n",
      "              precision    recall  f1-score   support\n",
      "\n",
      "         0.0       0.97      0.90      0.94       338\n",
      "         1.0       0.38      0.72      0.50        29\n",
      "\n",
      "    accuracy                           0.89       367\n",
      "   macro avg       0.68      0.81      0.72       367\n",
      "weighted avg       0.93      0.89      0.90       367\n",
      "\n",
      "------------------------------------ XGBClassifier(base_score=0.5, booster='gbtree', callbacks=None,\n",
      "              colsample_bylevel=1, colsample_bynode=1, colsample_bytree=1,\n",
      "              early_stopping_rounds=None, enable_categorical=False,\n",
      "              eval_metric=None, feature_types=None, gamma=0, gpu_id=-1,\n",
      "              grow_policy='depthwise', importance_type=None,\n",
      "              interaction_constraints='', learning_rate=0.300000012,\n",
      "              max_bin=256, max_cat_threshold=64, max_cat_to_onehot=4,\n",
      "              max_delta_step=0, max_depth=6, max_leaves=0, min_child_weight=1,\n",
      "              missing=nan, monotone_constraints='()', n_estimators=100,\n",
      "              n_jobs=0, num_parallel_tree=1, predictor='auto', random_state=0, ...) ------------------------------------\n",
      "Accuracy 0.8774\n",
      "----------------------------------------------------------\n",
      "Mean of Cross Validation Score 0.8719\n",
      "----------------------------------------------------------\n",
      "AUC_ROC Score 0.8321\n",
      "----------------------------------------------------------\n",
      "Confusion Matrix\n",
      "[[299  32]\n",
      " [ 13  23]]\n",
      "----------------------------------------------------------\n",
      "Classification Report\n",
      "              precision    recall  f1-score   support\n",
      "\n",
      "           0       0.96      0.90      0.93       331\n",
      "           1       0.42      0.64      0.51        36\n",
      "\n",
      "    accuracy                           0.88       367\n",
      "   macro avg       0.69      0.77      0.72       367\n",
      "weighted avg       0.91      0.88      0.89       367\n",
      "\n",
      "------------------------------------ ExtraTreesClassifier() ------------------------------------\n",
      "Accuracy 0.8801\n",
      "----------------------------------------------------------\n",
      "Mean of Cross Validation Score 0.8604\n",
      "----------------------------------------------------------\n",
      "AUC_ROC Score 0.8417\n",
      "----------------------------------------------------------\n",
      "Confusion Matrix\n",
      "[[309  41]\n",
      " [  3  14]]\n",
      "----------------------------------------------------------\n",
      "Classification Report\n",
      "              precision    recall  f1-score   support\n",
      "\n",
      "         0.0       0.99      0.88      0.93       350\n",
      "         1.0       0.25      0.82      0.39        17\n",
      "\n",
      "    accuracy                           0.88       367\n",
      "   macro avg       0.62      0.85      0.66       367\n",
      "weighted avg       0.96      0.88      0.91       367\n",
      "\n"
     ]
    }
   ],
   "source": [
    "createmodel(xtrain,xtest,ytrain,ytest)"
   ]
  },
  {
   "cell_type": "markdown",
   "id": "556cb2d2",
   "metadata": {},
   "source": [
    "### Sampling with SMOTE:"
   ]
  },
  {
   "cell_type": "code",
   "execution_count": 28,
   "id": "2a29f527",
   "metadata": {},
   "outputs": [],
   "source": [
    "#Over Sampling the data using SMOTE\n",
    "from imblearn.over_sampling import SMOTE\n",
    "over=SMOTE()\n",
    "x,y=over.fit_resample(x,y)"
   ]
  },
  {
   "cell_type": "code",
   "execution_count": 29,
   "id": "d6a0682b",
   "metadata": {},
   "outputs": [],
   "source": [
    "#Splitting data into train and test\n",
    "x1train,x1test,y1train,y1test=train_test_split(x,y,test_size=0.25,random_state=randomstate(x,y))"
   ]
  },
  {
   "cell_type": "code",
   "execution_count": 30,
   "id": "243b06e4",
   "metadata": {},
   "outputs": [],
   "source": [
    "#Creating a list of models which will be created one by one\n",
    "models=[GaussianNB(),KNeighborsClassifier(),SVC(probability=True),LogisticRegression(),DecisionTreeClassifier(),\n",
    "        RandomForestClassifier(),AdaBoostClassifier(),GradientBoostingClassifier(),XGBClassifier(verbosity=0),ExtraTreesClassifier()]"
   ]
  },
  {
   "cell_type": "code",
   "execution_count": 31,
   "id": "d604efde",
   "metadata": {},
   "outputs": [
    {
     "name": "stdout",
     "output_type": "stream",
     "text": [
      "------------------------------------ GaussianNB() ------------------------------------\n",
      "Accuracy 0.7289\n",
      "----------------------------------------------------------\n",
      "Mean of Cross Validation Score 0.7196\n",
      "----------------------------------------------------------\n",
      "AUC_ROC Score 0.812\n",
      "----------------------------------------------------------\n",
      "Confusion Matrix\n",
      "[[203  77]\n",
      " [ 90 246]]\n",
      "----------------------------------------------------------\n",
      "Classification Report\n",
      "              precision    recall  f1-score   support\n",
      "\n",
      "         0.0       0.69      0.72      0.71       280\n",
      "         1.0       0.76      0.73      0.75       336\n",
      "\n",
      "    accuracy                           0.73       616\n",
      "   macro avg       0.73      0.73      0.73       616\n",
      "weighted avg       0.73      0.73      0.73       616\n",
      "\n",
      "------------------------------------ KNeighborsClassifier() ------------------------------------\n",
      "Accuracy 0.836\n",
      "----------------------------------------------------------\n",
      "Mean of Cross Validation Score 0.8247\n",
      "----------------------------------------------------------\n",
      "AUC_ROC Score 0.9446\n",
      "----------------------------------------------------------\n",
      "Confusion Matrix\n",
      "[[196   4]\n",
      " [ 97 319]]\n",
      "----------------------------------------------------------\n",
      "Classification Report\n",
      "              precision    recall  f1-score   support\n",
      "\n",
      "         0.0       0.67      0.98      0.80       200\n",
      "         1.0       0.99      0.77      0.86       416\n",
      "\n",
      "    accuracy                           0.84       616\n",
      "   macro avg       0.83      0.87      0.83       616\n",
      "weighted avg       0.88      0.84      0.84       616\n",
      "\n",
      "------------------------------------ SVC(probability=True) ------------------------------------\n",
      "Accuracy 0.9075\n",
      "----------------------------------------------------------\n",
      "Mean of Cross Validation Score 0.9075\n",
      "----------------------------------------------------------\n",
      "AUC_ROC Score 0.9678\n",
      "----------------------------------------------------------\n",
      "Confusion Matrix\n",
      "[[259  23]\n",
      " [ 34 300]]\n",
      "----------------------------------------------------------\n",
      "Classification Report\n",
      "              precision    recall  f1-score   support\n",
      "\n",
      "         0.0       0.88      0.92      0.90       282\n",
      "         1.0       0.93      0.90      0.91       334\n",
      "\n",
      "    accuracy                           0.91       616\n",
      "   macro avg       0.91      0.91      0.91       616\n",
      "weighted avg       0.91      0.91      0.91       616\n",
      "\n",
      "------------------------------------ LogisticRegression() ------------------------------------\n",
      "Accuracy 0.8263\n",
      "----------------------------------------------------------\n",
      "Mean of Cross Validation Score 0.789\n",
      "----------------------------------------------------------\n",
      "AUC_ROC Score 0.8963\n",
      "----------------------------------------------------------\n",
      "Confusion Matrix\n",
      "[[234  48]\n",
      " [ 59 275]]\n",
      "----------------------------------------------------------\n",
      "Classification Report\n",
      "              precision    recall  f1-score   support\n",
      "\n",
      "         0.0       0.80      0.83      0.81       282\n",
      "         1.0       0.85      0.82      0.84       334\n",
      "\n",
      "    accuracy                           0.83       616\n",
      "   macro avg       0.83      0.83      0.83       616\n",
      "weighted avg       0.83      0.83      0.83       616\n",
      "\n",
      "------------------------------------ DecisionTreeClassifier() ------------------------------------\n",
      "Accuracy 0.8539\n",
      "----------------------------------------------------------\n",
      "Mean of Cross Validation Score 0.8641\n",
      "----------------------------------------------------------\n",
      "AUC_ROC Score 0.8529\n",
      "----------------------------------------------------------\n",
      "Confusion Matrix\n",
      "[[244  41]\n",
      " [ 49 282]]\n",
      "----------------------------------------------------------\n",
      "Classification Report\n",
      "              precision    recall  f1-score   support\n",
      "\n",
      "         0.0       0.83      0.86      0.84       285\n",
      "         1.0       0.87      0.85      0.86       331\n",
      "\n",
      "    accuracy                           0.85       616\n",
      "   macro avg       0.85      0.85      0.85       616\n",
      "weighted avg       0.85      0.85      0.85       616\n",
      "\n",
      "------------------------------------ RandomForestClassifier() ------------------------------------\n",
      "Accuracy 0.9334\n",
      "----------------------------------------------------------\n",
      "Mean of Cross Validation Score 0.9469\n",
      "----------------------------------------------------------\n",
      "AUC_ROC Score 0.9851\n",
      "----------------------------------------------------------\n",
      "Confusion Matrix\n",
      "[[281  29]\n",
      " [ 12 294]]\n",
      "----------------------------------------------------------\n",
      "Classification Report\n",
      "              precision    recall  f1-score   support\n",
      "\n",
      "         0.0       0.96      0.91      0.93       310\n",
      "         1.0       0.91      0.96      0.93       306\n",
      "\n",
      "    accuracy                           0.93       616\n",
      "   macro avg       0.93      0.93      0.93       616\n",
      "weighted avg       0.93      0.93      0.93       616\n",
      "\n",
      "------------------------------------ AdaBoostClassifier() ------------------------------------\n",
      "Accuracy 0.8994\n",
      "----------------------------------------------------------\n",
      "Mean of Cross Validation Score 0.9027\n",
      "----------------------------------------------------------\n",
      "AUC_ROC Score 0.9541\n",
      "----------------------------------------------------------\n",
      "Confusion Matrix\n",
      "[[265  34]\n",
      " [ 28 289]]\n",
      "----------------------------------------------------------\n",
      "Classification Report\n",
      "              precision    recall  f1-score   support\n",
      "\n",
      "         0.0       0.90      0.89      0.90       299\n",
      "         1.0       0.89      0.91      0.90       317\n",
      "\n",
      "    accuracy                           0.90       616\n",
      "   macro avg       0.90      0.90      0.90       616\n",
      "weighted avg       0.90      0.90      0.90       616\n",
      "\n",
      "------------------------------------ GradientBoostingClassifier() ------------------------------------\n",
      "Accuracy 0.9253\n",
      "----------------------------------------------------------\n",
      "Mean of Cross Validation Score 0.9149\n",
      "----------------------------------------------------------\n",
      "AUC_ROC Score 0.9701\n",
      "----------------------------------------------------------\n",
      "Confusion Matrix\n",
      "[[288  41]\n",
      " [  5 282]]\n",
      "----------------------------------------------------------\n",
      "Classification Report\n",
      "              precision    recall  f1-score   support\n",
      "\n",
      "         0.0       0.98      0.88      0.93       329\n",
      "         1.0       0.87      0.98      0.92       287\n",
      "\n",
      "    accuracy                           0.93       616\n",
      "   macro avg       0.93      0.93      0.93       616\n",
      "weighted avg       0.93      0.93      0.93       616\n",
      "\n",
      "------------------------------------ XGBClassifier(base_score=0.5, booster='gbtree', callbacks=None,\n",
      "              colsample_bylevel=1, colsample_bynode=1, colsample_bytree=1,\n",
      "              early_stopping_rounds=None, enable_categorical=False,\n",
      "              eval_metric=None, feature_types=None, gamma=0, gpu_id=-1,\n",
      "              grow_policy='depthwise', importance_type=None,\n",
      "              interaction_constraints='', learning_rate=0.300000012,\n",
      "              max_bin=256, max_cat_threshold=64, max_cat_to_onehot=4,\n",
      "              max_delta_step=0, max_depth=6, max_leaves=0, min_child_weight=1,\n",
      "              missing=nan, monotone_constraints='()', n_estimators=100,\n",
      "              n_jobs=0, num_parallel_tree=1, predictor='auto', random_state=0, ...) ------------------------------------\n",
      "Accuracy 0.914\n",
      "----------------------------------------------------------\n",
      "Mean of Cross Validation Score 0.925\n",
      "----------------------------------------------------------\n",
      "AUC_ROC Score 0.9738\n",
      "----------------------------------------------------------\n",
      "Confusion Matrix\n",
      "[[278  38]\n",
      " [ 15 285]]\n",
      "----------------------------------------------------------\n",
      "Classification Report\n",
      "              precision    recall  f1-score   support\n",
      "\n",
      "           0       0.95      0.88      0.91       316\n",
      "           1       0.88      0.95      0.91       300\n",
      "\n",
      "    accuracy                           0.91       616\n",
      "   macro avg       0.92      0.91      0.91       616\n",
      "weighted avg       0.92      0.91      0.91       616\n",
      "\n",
      "------------------------------------ ExtraTreesClassifier() ------------------------------------\n",
      "Accuracy 0.961\n",
      "----------------------------------------------------------\n",
      "Mean of Cross Validation Score 0.9684\n",
      "----------------------------------------------------------\n",
      "AUC_ROC Score 0.9953\n",
      "----------------------------------------------------------\n",
      "Confusion Matrix\n",
      "[[279  10]\n",
      " [ 14 313]]\n",
      "----------------------------------------------------------\n",
      "Classification Report\n",
      "              precision    recall  f1-score   support\n",
      "\n",
      "         0.0       0.95      0.97      0.96       289\n",
      "         1.0       0.97      0.96      0.96       327\n",
      "\n",
      "    accuracy                           0.96       616\n",
      "   macro avg       0.96      0.96      0.96       616\n",
      "weighted avg       0.96      0.96      0.96       616\n",
      "\n"
     ]
    }
   ],
   "source": [
    "createmodel(x1train,x1test,y1train,y1test)"
   ]
  },
  {
   "cell_type": "code",
   "execution_count": 55,
   "id": "4615195d",
   "metadata": {},
   "outputs": [
    {
     "name": "stdout",
     "output_type": "stream",
     "text": [
      "------------------------------------ ExtraTreesClassifier() ------------------------------------\n",
      "Accuracy 0.9643\n",
      "----------------------------------------------------------\n",
      "Mean of Cross Validation Score 0.947\n",
      "----------------------------------------------------------\n",
      "AUC_ROC Score 0.9957\n",
      "----------------------------------------------------------\n",
      "Confusion Matrix\n",
      "[[281  10]\n",
      " [ 12 313]]\n",
      "----------------------------------------------------------\n",
      "Classification Report\n",
      "              precision    recall  f1-score   support\n",
      "\n",
      "         0.0       0.96      0.97      0.96       291\n",
      "         1.0       0.97      0.96      0.97       325\n",
      "\n",
      "    accuracy                           0.96       616\n",
      "   macro avg       0.96      0.96      0.96       616\n",
      "weighted avg       0.96      0.96      0.96       616\n",
      "\n"
     ]
    }
   ],
   "source": [
    "etc_model=models[-1].fit(x1train,y1train)\n",
    "p=etc_model.predict(x1test)\n",
    "score=cross_val_score(etc_model,x,y,cv=10)\n",
    "performance(p,y1test,etc_model,x1test,score)"
   ]
  },
  {
   "cell_type": "markdown",
   "id": "55e1ddd9",
   "metadata": {},
   "source": [
    "## Feature Importance"
   ]
  },
  {
   "cell_type": "code",
   "execution_count": 56,
   "id": "1cd2f42c",
   "metadata": {},
   "outputs": [
    {
     "data": {
      "image/png": "[encoded data removed]",
      "text/plain": [
       "<Figure size 960x1120 with 1 Axes>"
      ]
     },
     "metadata": {},
     "output_type": "display_data"
    }
   ],
   "source": [
    "def plot_feature_importances(importances, features):\n",
    "    # get the importance rating of each feature and sort it\n",
    "    indices = np.argsort(importances)\n",
    "\n",
    "    # make a plot with the feature importance\n",
    "    plt.figure(figsize=(12,14), dpi= 80, facecolor='w', edgecolor='k')\n",
    "    plt.grid()\n",
    "    plt.title('Feature Importances')\n",
    "    plt.barh(range(len(indices)), importances[indices], height=0.8, color='mediumvioletred', align='center')\n",
    "    plt.yticks(range(len(indices)), list(features))\n",
    "    plt.xlabel('Relative Importance')\n",
    "    plt.show()\n",
    "\n",
    "plot_feature_importances(etc_model.feature_importances_, x1test.columns)"
   ]
  },
  {
   "cell_type": "markdown",
   "id": "69592453",
   "metadata": {},
   "source": [
    "### Sampling with ADASYN:"
   ]
  },
  {
   "cell_type": "code",
   "execution_count": 33,
   "id": "756f067c",
   "metadata": {},
   "outputs": [],
   "source": [
    "x1=df.copy()\n",
    "x1.drop('Attrition',axis=1,inplace=True)\n",
    "y1=df['Attrition']"
   ]
  },
  {
   "cell_type": "code",
   "execution_count": 34,
   "id": "7401d63d",
   "metadata": {},
   "outputs": [],
   "source": [
    "#Over Sampling the data using ADASYN\n",
    "from imblearn.over_sampling import ADASYN\n",
    "over=ADASYN()\n",
    "x,y=over.fit_resample(x1,y1)"
   ]
  },
  {
   "cell_type": "code",
   "execution_count": 35,
   "id": "e1711ffa",
   "metadata": {},
   "outputs": [],
   "source": [
    "#Splitting data into train and test\n",
    "x2train,x2test,y2train,y2test=train_test_split(x,y,test_size=0.25,random_state=randomstate(x,y))"
   ]
  },
  {
   "cell_type": "code",
   "execution_count": 36,
   "id": "a77f4191",
   "metadata": {},
   "outputs": [],
   "source": [
    "#Creating a list of models which will be created one by one\n",
    "models=[GaussianNB(),KNeighborsClassifier(),SVC(probability=True),LogisticRegression(),DecisionTreeClassifier(),\n",
    "        RandomForestClassifier(),AdaBoostClassifier(),GradientBoostingClassifier(),XGBClassifier(verbosity=0),ExtraTreesClassifier()]"
   ]
  },
  {
   "cell_type": "code",
   "execution_count": 37,
   "id": "8c81af71",
   "metadata": {},
   "outputs": [
    {
     "name": "stdout",
     "output_type": "stream",
     "text": [
      "------------------------------------ GaussianNB() ------------------------------------\n",
      "Accuracy 0.7894\n",
      "----------------------------------------------------------\n",
      "Mean of Cross Validation Score 0.765\n",
      "----------------------------------------------------------\n",
      "AUC_ROC Score 0.8736\n",
      "----------------------------------------------------------\n",
      "Confusion Matrix\n",
      "[[233  44]\n",
      " [ 83 243]]\n",
      "----------------------------------------------------------\n",
      "Classification Report\n",
      "              precision    recall  f1-score   support\n",
      "\n",
      "         0.0       0.74      0.84      0.79       277\n",
      "         1.0       0.85      0.75      0.79       326\n",
      "\n",
      "    accuracy                           0.79       603\n",
      "   macro avg       0.79      0.79      0.79       603\n",
      "weighted avg       0.80      0.79      0.79       603\n",
      "\n",
      "------------------------------------ KNeighborsClassifier() ------------------------------------\n",
      "Accuracy 0.7114\n",
      "----------------------------------------------------------\n",
      "Mean of Cross Validation Score 0.6865\n",
      "----------------------------------------------------------\n",
      "AUC_ROC Score 0.7656\n",
      "----------------------------------------------------------\n",
      "Confusion Matrix\n",
      "[[193  51]\n",
      " [123 236]]\n",
      "----------------------------------------------------------\n",
      "Classification Report\n",
      "              precision    recall  f1-score   support\n",
      "\n",
      "         0.0       0.61      0.79      0.69       244\n",
      "         1.0       0.82      0.66      0.73       359\n",
      "\n",
      "    accuracy                           0.71       603\n",
      "   macro avg       0.72      0.72      0.71       603\n",
      "weighted avg       0.74      0.71      0.71       603\n",
      "\n",
      "------------------------------------ SVC(probability=True) ------------------------------------\n",
      "Accuracy 0.534\n",
      "----------------------------------------------------------\n",
      "Mean of Cross Validation Score 0.4963\n",
      "----------------------------------------------------------\n",
      "AUC_ROC Score 0.4518\n",
      "----------------------------------------------------------\n",
      "Confusion Matrix\n",
      "[[314 279]\n",
      " [  2   8]]\n",
      "----------------------------------------------------------\n",
      "Classification Report\n",
      "              precision    recall  f1-score   support\n",
      "\n",
      "         0.0       0.99      0.53      0.69       593\n",
      "         1.0       0.03      0.80      0.05        10\n",
      "\n",
      "    accuracy                           0.53       603\n",
      "   macro avg       0.51      0.66      0.37       603\n",
      "weighted avg       0.98      0.53      0.68       603\n",
      "\n",
      "------------------------------------ LogisticRegression() ------------------------------------\n",
      "Accuracy 0.8093\n",
      "----------------------------------------------------------\n",
      "Mean of Cross Validation Score 0.7476\n",
      "----------------------------------------------------------\n",
      "AUC_ROC Score 0.8845\n",
      "----------------------------------------------------------\n",
      "Confusion Matrix\n",
      "[[259  58]\n",
      " [ 57 229]]\n",
      "----------------------------------------------------------\n",
      "Classification Report\n",
      "              precision    recall  f1-score   support\n",
      "\n",
      "         0.0       0.82      0.82      0.82       317\n",
      "         1.0       0.80      0.80      0.80       286\n",
      "\n",
      "    accuracy                           0.81       603\n",
      "   macro avg       0.81      0.81      0.81       603\n",
      "weighted avg       0.81      0.81      0.81       603\n",
      "\n",
      "------------------------------------ DecisionTreeClassifier() ------------------------------------\n",
      "Accuracy 0.8624\n",
      "----------------------------------------------------------\n",
      "Mean of Cross Validation Score 0.8422\n",
      "----------------------------------------------------------\n",
      "AUC_ROC Score 0.8605\n",
      "----------------------------------------------------------\n",
      "Confusion Matrix\n",
      "[[284  51]\n",
      " [ 32 236]]\n",
      "----------------------------------------------------------\n",
      "Classification Report\n",
      "              precision    recall  f1-score   support\n",
      "\n",
      "         0.0       0.90      0.85      0.87       335\n",
      "         1.0       0.82      0.88      0.85       268\n",
      "\n",
      "    accuracy                           0.86       603\n",
      "   macro avg       0.86      0.86      0.86       603\n",
      "weighted avg       0.86      0.86      0.86       603\n",
      "\n",
      "------------------------------------ RandomForestClassifier() ------------------------------------\n",
      "Accuracy 0.9303\n",
      "----------------------------------------------------------\n",
      "Mean of Cross Validation Score 0.921\n",
      "----------------------------------------------------------\n",
      "AUC_ROC Score 0.9785\n",
      "----------------------------------------------------------\n",
      "Confusion Matrix\n",
      "[[308  34]\n",
      " [  8 253]]\n",
      "----------------------------------------------------------\n",
      "Classification Report\n",
      "              precision    recall  f1-score   support\n",
      "\n",
      "         0.0       0.97      0.90      0.94       342\n",
      "         1.0       0.88      0.97      0.92       261\n",
      "\n",
      "    accuracy                           0.93       603\n",
      "   macro avg       0.93      0.93      0.93       603\n",
      "weighted avg       0.93      0.93      0.93       603\n",
      "\n",
      "------------------------------------ AdaBoostClassifier() ------------------------------------\n",
      "Accuracy 0.9187\n",
      "----------------------------------------------------------\n",
      "Mean of Cross Validation Score 0.9015\n",
      "----------------------------------------------------------\n",
      "AUC_ROC Score 0.9652\n",
      "----------------------------------------------------------\n",
      "Confusion Matrix\n",
      "[[297  30]\n",
      " [ 19 257]]\n",
      "----------------------------------------------------------\n",
      "Classification Report\n",
      "              precision    recall  f1-score   support\n",
      "\n",
      "         0.0       0.94      0.91      0.92       327\n",
      "         1.0       0.90      0.93      0.91       276\n",
      "\n",
      "    accuracy                           0.92       603\n",
      "   macro avg       0.92      0.92      0.92       603\n",
      "weighted avg       0.92      0.92      0.92       603\n",
      "\n",
      "------------------------------------ GradientBoostingClassifier() ------------------------------------\n",
      "Accuracy 0.9303\n",
      "----------------------------------------------------------\n",
      "Mean of Cross Validation Score 0.9102\n",
      "----------------------------------------------------------\n",
      "AUC_ROC Score 0.9651\n",
      "----------------------------------------------------------\n",
      "Confusion Matrix\n",
      "[[309  35]\n",
      " [  7 252]]\n",
      "----------------------------------------------------------\n",
      "Classification Report\n",
      "              precision    recall  f1-score   support\n",
      "\n",
      "         0.0       0.98      0.90      0.94       344\n",
      "         1.0       0.88      0.97      0.92       259\n",
      "\n",
      "    accuracy                           0.93       603\n",
      "   macro avg       0.93      0.94      0.93       603\n",
      "weighted avg       0.93      0.93      0.93       603\n",
      "\n",
      "------------------------------------ XGBClassifier(base_score=0.5, booster='gbtree', callbacks=None,\n",
      "              colsample_bylevel=1, colsample_bynode=1, colsample_bytree=1,\n",
      "              early_stopping_rounds=None, enable_categorical=False,\n",
      "              eval_metric=None, feature_types=None, gamma=0, gpu_id=-1,\n",
      "              grow_policy='depthwise', importance_type=None,\n",
      "              interaction_constraints='', learning_rate=0.300000012,\n",
      "              max_bin=256, max_cat_threshold=64, max_cat_to_onehot=4,\n",
      "              max_delta_step=0, max_depth=6, max_leaves=0, min_child_weight=1,\n",
      "              missing=nan, monotone_constraints='()', n_estimators=100,\n",
      "              n_jobs=0, num_parallel_tree=1, predictor='auto', random_state=0, ...) ------------------------------------\n",
      "Accuracy 0.932\n",
      "----------------------------------------------------------\n",
      "Mean of Cross Validation Score 0.9165\n",
      "----------------------------------------------------------\n",
      "AUC_ROC Score 0.9704\n",
      "----------------------------------------------------------\n",
      "Confusion Matrix\n",
      "[[307  32]\n",
      " [  9 255]]\n",
      "----------------------------------------------------------\n",
      "Classification Report\n",
      "              precision    recall  f1-score   support\n",
      "\n",
      "           0       0.97      0.91      0.94       339\n",
      "           1       0.89      0.97      0.93       264\n",
      "\n",
      "    accuracy                           0.93       603\n",
      "   macro avg       0.93      0.94      0.93       603\n",
      "weighted avg       0.94      0.93      0.93       603\n",
      "\n",
      "------------------------------------ ExtraTreesClassifier() ------------------------------------\n",
      "Accuracy 0.9486\n",
      "----------------------------------------------------------\n",
      "Mean of Cross Validation Score 0.9462\n",
      "----------------------------------------------------------\n",
      "AUC_ROC Score 0.9854\n",
      "----------------------------------------------------------\n",
      "Confusion Matrix\n",
      "[[307  22]\n",
      " [  9 265]]\n",
      "----------------------------------------------------------\n",
      "Classification Report\n",
      "              precision    recall  f1-score   support\n",
      "\n",
      "         0.0       0.97      0.93      0.95       329\n",
      "         1.0       0.92      0.97      0.94       274\n",
      "\n",
      "    accuracy                           0.95       603\n",
      "   macro avg       0.95      0.95      0.95       603\n",
      "weighted avg       0.95      0.95      0.95       603\n",
      "\n"
     ]
    }
   ],
   "source": [
    "createmodel(x2train,x2test,y2train,y2test)"
   ]
  },
  {
   "cell_type": "code",
   "execution_count": null,
   "id": "5e587b35",
   "metadata": {},
   "outputs": [],
   "source": []
  },
  {
   "cell_type": "code",
   "execution_count": 38,
   "id": "025bdc28",
   "metadata": {},
   "outputs": [],
   "source": [
    "from keras import backend as K\n",
    "from keras.models import Sequential\n",
    "from keras.layers import Dense\n",
    "from keras.optimizers import Adam,SGD,Adagrad,Adadelta,RMSprop\n",
    "from keras.utils import to_categorical\n",
    "\n",
    "import tensorflow as tf\n",
    "import random as rn"
   ]
  },
  {
   "cell_type": "code",
   "execution_count": 39,
   "id": "1f18a543",
   "metadata": {},
   "outputs": [],
   "source": [
    "model=Sequential()\n",
    "model.add(Dense(input_dim=30,units=100,activation='relu'))\n",
    "model.add(Dense(units=75,activation='relu'))\n",
    "model.add(Dense(units=50,activation='relu'))\n",
    "model.add(Dense(units=45,activation='relu'))\n",
    "model.add(Dense(units=25,activation='relu'))\n",
    "model.add(Dense(units=15,activation='relu'))\n",
    "model.add(Dense(units=1,activation='sigmoid'))"
   ]
  },
  {
   "cell_type": "code",
   "execution_count": 40,
   "id": "dc8a17c7",
   "metadata": {},
   "outputs": [],
   "source": [
    "model.compile(optimizer=Adam(lr=0.01),loss='binary_crossentropy',metrics=['accuracy'])"
   ]
  },
  {
   "cell_type": "code",
   "execution_count": 41,
   "id": "43067b3a",
   "metadata": {},
   "outputs": [
    {
     "name": "stdout",
     "output_type": "stream",
     "text": [
      "Model: \"sequential\"\n",
      "_________________________________________________________________\n",
      " Layer (type)                Output Shape              Param #   \n",
      "=================================================================\n",
      " dense (Dense)               (None, 100)               3100      \n",
      "                                                                 \n",
      " dense_1 (Dense)             (None, 75)                7575      \n",
      "                                                                 \n",
      " dense_2 (Dense)             (None, 50)                3800      \n",
      "                                                                 \n",
      " dense_3 (Dense)             (None, 45)                2295      \n",
      "                                                                 \n",
      " dense_4 (Dense)             (None, 25)                1150      \n",
      "                                                                 \n",
      " dense_5 (Dense)             (None, 15)                390       \n",
      "                                                                 \n",
      " dense_6 (Dense)             (None, 1)                 16        \n",
      "                                                                 \n",
      "=================================================================\n",
      "Total params: 18,326\n",
      "Trainable params: 18,326\n",
      "Non-trainable params: 0\n",
      "_________________________________________________________________\n"
     ]
    }
   ],
   "source": [
    "model.summary()"
   ]
  },
  {
   "cell_type": "code",
   "execution_count": 42,
   "id": "6fb1d742",
   "metadata": {
    "scrolled": true
   },
   "outputs": [
    {
     "name": "stdout",
     "output_type": "stream",
     "text": [
      "Epoch 1/25\n",
      "58/58 [==============================] - 4s 7ms/step - loss: 0.5736 - accuracy: 0.6899 - val_loss: 0.4845 - val_accuracy: 0.7857\n",
      "Epoch 2/25\n",
      "58/58 [==============================] - 0s 3ms/step - loss: 0.5158 - accuracy: 0.7511 - val_loss: 0.4018 - val_accuracy: 0.8295\n",
      "Epoch 3/25\n",
      "58/58 [==============================] - 0s 3ms/step - loss: 0.4791 - accuracy: 0.7668 - val_loss: 0.4291 - val_accuracy: 0.8068\n",
      "Epoch 4/25\n",
      "58/58 [==============================] - 0s 3ms/step - loss: 0.4429 - accuracy: 0.7992 - val_loss: 0.3919 - val_accuracy: 0.8409\n",
      "Epoch 5/25\n",
      "58/58 [==============================] - 0s 3ms/step - loss: 0.4710 - accuracy: 0.7814 - val_loss: 0.4879 - val_accuracy: 0.8344\n",
      "Epoch 6/25\n",
      "58/58 [==============================] - 0s 3ms/step - loss: 0.4366 - accuracy: 0.7982 - val_loss: 0.3685 - val_accuracy: 0.8442\n",
      "Epoch 7/25\n",
      "58/58 [==============================] - 0s 3ms/step - loss: 0.4024 - accuracy: 0.8225 - val_loss: 0.3566 - val_accuracy: 0.8393\n",
      "Epoch 8/25\n",
      "58/58 [==============================] - 0s 3ms/step - loss: 0.3922 - accuracy: 0.8252 - val_loss: 0.3745 - val_accuracy: 0.8393\n",
      "Epoch 9/25\n",
      "58/58 [==============================] - 0s 3ms/step - loss: 0.3749 - accuracy: 0.8301 - val_loss: 0.3534 - val_accuracy: 0.8506\n",
      "Epoch 10/25\n",
      "58/58 [==============================] - 0s 3ms/step - loss: 0.3732 - accuracy: 0.8290 - val_loss: 0.3723 - val_accuracy: 0.8214\n",
      "Epoch 11/25\n",
      "58/58 [==============================] - 0s 3ms/step - loss: 0.3528 - accuracy: 0.8458 - val_loss: 0.4495 - val_accuracy: 0.8328\n",
      "Epoch 12/25\n",
      "58/58 [==============================] - 0s 3ms/step - loss: 0.3789 - accuracy: 0.8317 - val_loss: 0.3488 - val_accuracy: 0.8393\n",
      "Epoch 13/25\n",
      "58/58 [==============================] - 0s 3ms/step - loss: 0.3305 - accuracy: 0.8539 - val_loss: 0.3492 - val_accuracy: 0.8393\n",
      "Epoch 14/25\n",
      "58/58 [==============================] - 0s 2ms/step - loss: 0.2958 - accuracy: 0.8761 - val_loss: 0.3573 - val_accuracy: 0.8490\n",
      "Epoch 15/25\n",
      "58/58 [==============================] - 0s 2ms/step - loss: 0.2965 - accuracy: 0.8772 - val_loss: 0.4400 - val_accuracy: 0.7922\n",
      "Epoch 16/25\n",
      "58/58 [==============================] - 0s 3ms/step - loss: 0.3386 - accuracy: 0.8604 - val_loss: 0.3296 - val_accuracy: 0.8490\n",
      "Epoch 17/25\n",
      "58/58 [==============================] - 0s 3ms/step - loss: 0.2683 - accuracy: 0.8880 - val_loss: 0.3503 - val_accuracy: 0.8555\n",
      "Epoch 18/25\n",
      "58/58 [==============================] - 0s 3ms/step - loss: 0.2915 - accuracy: 0.8707 - val_loss: 0.3273 - val_accuracy: 0.8766\n",
      "Epoch 19/25\n",
      "58/58 [==============================] - 0s 3ms/step - loss: 0.2826 - accuracy: 0.8793 - val_loss: 0.3271 - val_accuracy: 0.8685\n",
      "Epoch 20/25\n",
      "58/58 [==============================] - 0s 2ms/step - loss: 0.2651 - accuracy: 0.8874 - val_loss: 0.3181 - val_accuracy: 0.8653\n",
      "Epoch 21/25\n",
      "58/58 [==============================] - 0s 2ms/step - loss: 0.2720 - accuracy: 0.8777 - val_loss: 0.3524 - val_accuracy: 0.8506\n",
      "Epoch 22/25\n",
      "58/58 [==============================] - 0s 3ms/step - loss: 0.2646 - accuracy: 0.8820 - val_loss: 0.2914 - val_accuracy: 0.8653\n",
      "Epoch 23/25\n",
      "58/58 [==============================] - 0s 2ms/step - loss: 0.2249 - accuracy: 0.9075 - val_loss: 0.3143 - val_accuracy: 0.8604\n",
      "Epoch 24/25\n",
      "58/58 [==============================] - 0s 3ms/step - loss: 0.2051 - accuracy: 0.9194 - val_loss: 0.3403 - val_accuracy: 0.8799\n",
      "Epoch 25/25\n",
      "58/58 [==============================] - 0s 3ms/step - loss: 0.1984 - accuracy: 0.9237 - val_loss: 0.5844 - val_accuracy: 0.8701\n"
     ]
    }
   ],
   "source": [
    "# Our vectorized labels\n",
    "History=model.fit(x1train,y1train,validation_data=(x1test,y1test),epochs=25,verbose=1)"
   ]
  },
  {
   "cell_type": "markdown",
   "id": "e47c174f",
   "metadata": {},
   "source": [
    "### Employee attrition Rate Prediction Using Regression:"
   ]
  },
  {
   "cell_type": "markdown",
   "id": "ffc80ae2",
   "metadata": {},
   "source": [
    "**To find the probability at which a particular employee attrites from a company**"
   ]
  },
  {
   "cell_type": "code",
   "execution_count": 43,
   "id": "b94d4a69",
   "metadata": {},
   "outputs": [],
   "source": [
    "# train_dataset_path = r\"C:\\Users\\Aishwarya\\Desktop\\FINAL PROJECT\\IMPLEMENTATION\\Train.csv\"\n",
    "# test_dataset_path  = r\"C:\\Users\\Aishwarya\\Desktop\\FINAL PROJECT\\IMPLEMENTATION\\Test (2).csv\""
   ]
  },
  {
   "cell_type": "code",
   "execution_count": 44,
   "id": "23a1084b",
   "metadata": {},
   "outputs": [],
   "source": [
    "# # Data manipulation libraries\n",
    "# import pandas as pd\n",
    "# import numpy as np\n",
    "\n",
    "# # Data visualistaion libraries\n",
    "# import seaborn as sns\n",
    "# import matplotlib.pyplot as plt\n",
    "# pd.plotting.register_matplotlib_converters()\n",
    "# %matplotlib inline\n",
    "\n",
    "# # Machine learning libraries\n",
    "# from sklearn.metrics import mean_absolute_error,mean_squared_error\n",
    "# from sklearn.impute import SimpleImputer\n",
    "# from sklearn.preprocessing import LabelEncoder\n",
    "# from sklearn.model_selection import train_test_split\n",
    "# from xgboost import XGBRegressor\n",
    "# from sklearn.model_selection import cross_val_score\n",
    "# from sklearn.model_selection import GridSearchCV\n",
    "# # Machine Learning Models\n",
    "# from sklearn.ensemble import RandomForestRegressor"
   ]
  },
  {
   "cell_type": "code",
   "execution_count": 45,
   "id": "cb2f5c6b",
   "metadata": {},
   "outputs": [],
   "source": [
    "# #training and testing data\n",
    "# training_dataframe = pd.read_csv(train_dataset_path,index_col=\"Employee_ID\")\n",
    "# #testing_dataframe  = pd.read_csv(test_dataset_path,index_col =\"Employee_ID\")"
   ]
  },
  {
   "cell_type": "markdown",
   "id": "a8d0168e",
   "metadata": {},
   "source": [
    "### Data Exploration:"
   ]
  },
  {
   "cell_type": "code",
   "execution_count": 46,
   "id": "e352b51b",
   "metadata": {},
   "outputs": [
    {
     "data": {
      "text/html": [
       "<div>\n",
       "<style scoped>\n",
       "    .dataframe tbody tr th:only-of-type {\n",
       "        vertical-align: middle;\n",
       "    }\n",
       "\n",
       "    .dataframe tbody tr th {\n",
       "        vertical-align: top;\n",
       "    }\n",
       "\n",
       "    .dataframe thead th {\n",
       "        text-align: right;\n",
       "    }\n",
       "</style>\n",
       "<table border=\"1\" class=\"dataframe\">\n",
       "  <thead>\n",
       "    <tr style=\"text-align: right;\">\n",
       "      <th></th>\n",
       "      <th>Age</th>\n",
       "      <th>Education_Level</th>\n",
       "      <th>Time_of_service</th>\n",
       "      <th>Time_since_promotion</th>\n",
       "      <th>growth_rate</th>\n",
       "      <th>Travel_Rate</th>\n",
       "      <th>Post_Level</th>\n",
       "      <th>Pay_Scale</th>\n",
       "      <th>Work_Life_balance</th>\n",
       "      <th>VAR1</th>\n",
       "      <th>VAR2</th>\n",
       "      <th>VAR3</th>\n",
       "      <th>VAR4</th>\n",
       "      <th>VAR5</th>\n",
       "      <th>VAR6</th>\n",
       "      <th>VAR7</th>\n",
       "      <th>Attrition_rate</th>\n",
       "    </tr>\n",
       "  </thead>\n",
       "  <tbody>\n",
       "    <tr>\n",
       "      <th>count</th>\n",
       "      <td>6588.000000</td>\n",
       "      <td>7000.000000</td>\n",
       "      <td>6856.000000</td>\n",
       "      <td>7000.000000</td>\n",
       "      <td>7000.000000</td>\n",
       "      <td>7000.000000</td>\n",
       "      <td>7000.000000</td>\n",
       "      <td>6991.000000</td>\n",
       "      <td>6989.000000</td>\n",
       "      <td>7000.000000</td>\n",
       "      <td>6423.000000</td>\n",
       "      <td>7000.000000</td>\n",
       "      <td>6344.000000</td>\n",
       "      <td>7000.000000</td>\n",
       "      <td>7000.000000</td>\n",
       "      <td>7000.000000</td>\n",
       "      <td>7000.000000</td>\n",
       "    </tr>\n",
       "    <tr>\n",
       "      <th>mean</th>\n",
       "      <td>39.622799</td>\n",
       "      <td>3.187857</td>\n",
       "      <td>13.385064</td>\n",
       "      <td>2.367143</td>\n",
       "      <td>47.064286</td>\n",
       "      <td>0.817857</td>\n",
       "      <td>2.798000</td>\n",
       "      <td>6.006294</td>\n",
       "      <td>2.387895</td>\n",
       "      <td>3.098571</td>\n",
       "      <td>-0.008126</td>\n",
       "      <td>-0.013606</td>\n",
       "      <td>1.891078</td>\n",
       "      <td>2.834143</td>\n",
       "      <td>7.101286</td>\n",
       "      <td>3.257000</td>\n",
       "      <td>0.189376</td>\n",
       "    </tr>\n",
       "    <tr>\n",
       "      <th>std</th>\n",
       "      <td>13.606920</td>\n",
       "      <td>1.065102</td>\n",
       "      <td>10.364188</td>\n",
       "      <td>1.149395</td>\n",
       "      <td>15.761406</td>\n",
       "      <td>0.648205</td>\n",
       "      <td>1.163721</td>\n",
       "      <td>2.058435</td>\n",
       "      <td>1.122786</td>\n",
       "      <td>0.836377</td>\n",
       "      <td>0.989850</td>\n",
       "      <td>0.986933</td>\n",
       "      <td>0.529403</td>\n",
       "      <td>0.938945</td>\n",
       "      <td>1.164262</td>\n",
       "      <td>0.925319</td>\n",
       "      <td>0.185753</td>\n",
       "    </tr>\n",
       "    <tr>\n",
       "      <th>min</th>\n",
       "      <td>19.000000</td>\n",
       "      <td>1.000000</td>\n",
       "      <td>0.000000</td>\n",
       "      <td>0.000000</td>\n",
       "      <td>20.000000</td>\n",
       "      <td>0.000000</td>\n",
       "      <td>1.000000</td>\n",
       "      <td>1.000000</td>\n",
       "      <td>1.000000</td>\n",
       "      <td>1.000000</td>\n",
       "      <td>-1.817600</td>\n",
       "      <td>-2.776200</td>\n",
       "      <td>1.000000</td>\n",
       "      <td>1.000000</td>\n",
       "      <td>5.000000</td>\n",
       "      <td>1.000000</td>\n",
       "      <td>0.000000</td>\n",
       "    </tr>\n",
       "    <tr>\n",
       "      <th>25%</th>\n",
       "      <td>27.000000</td>\n",
       "      <td>3.000000</td>\n",
       "      <td>5.000000</td>\n",
       "      <td>1.000000</td>\n",
       "      <td>33.000000</td>\n",
       "      <td>0.000000</td>\n",
       "      <td>2.000000</td>\n",
       "      <td>5.000000</td>\n",
       "      <td>1.000000</td>\n",
       "      <td>3.000000</td>\n",
       "      <td>-0.961200</td>\n",
       "      <td>-0.453700</td>\n",
       "      <td>2.000000</td>\n",
       "      <td>2.000000</td>\n",
       "      <td>6.000000</td>\n",
       "      <td>3.000000</td>\n",
       "      <td>0.070400</td>\n",
       "    </tr>\n",
       "    <tr>\n",
       "      <th>50%</th>\n",
       "      <td>37.000000</td>\n",
       "      <td>3.000000</td>\n",
       "      <td>10.000000</td>\n",
       "      <td>2.000000</td>\n",
       "      <td>47.000000</td>\n",
       "      <td>1.000000</td>\n",
       "      <td>3.000000</td>\n",
       "      <td>6.000000</td>\n",
       "      <td>2.000000</td>\n",
       "      <td>3.000000</td>\n",
       "      <td>-0.104800</td>\n",
       "      <td>-0.453700</td>\n",
       "      <td>2.000000</td>\n",
       "      <td>3.000000</td>\n",
       "      <td>7.000000</td>\n",
       "      <td>3.000000</td>\n",
       "      <td>0.142650</td>\n",
       "    </tr>\n",
       "    <tr>\n",
       "      <th>75%</th>\n",
       "      <td>52.000000</td>\n",
       "      <td>4.000000</td>\n",
       "      <td>21.000000</td>\n",
       "      <td>3.000000</td>\n",
       "      <td>61.000000</td>\n",
       "      <td>1.000000</td>\n",
       "      <td>3.000000</td>\n",
       "      <td>8.000000</td>\n",
       "      <td>3.000000</td>\n",
       "      <td>3.000000</td>\n",
       "      <td>0.751600</td>\n",
       "      <td>0.707500</td>\n",
       "      <td>2.000000</td>\n",
       "      <td>3.000000</td>\n",
       "      <td>8.000000</td>\n",
       "      <td>4.000000</td>\n",
       "      <td>0.235000</td>\n",
       "    </tr>\n",
       "    <tr>\n",
       "      <th>max</th>\n",
       "      <td>65.000000</td>\n",
       "      <td>5.000000</td>\n",
       "      <td>43.000000</td>\n",
       "      <td>4.000000</td>\n",
       "      <td>74.000000</td>\n",
       "      <td>2.000000</td>\n",
       "      <td>5.000000</td>\n",
       "      <td>10.000000</td>\n",
       "      <td>5.000000</td>\n",
       "      <td>5.000000</td>\n",
       "      <td>1.608100</td>\n",
       "      <td>1.868800</td>\n",
       "      <td>3.000000</td>\n",
       "      <td>5.000000</td>\n",
       "      <td>9.000000</td>\n",
       "      <td>5.000000</td>\n",
       "      <td>0.995900</td>\n",
       "    </tr>\n",
       "  </tbody>\n",
       "</table>\n",
       "</div>"
      ],
      "text/plain": [
       "               Age  Education_Level  Time_of_service  Time_since_promotion  \\\n",
       "count  6588.000000      7000.000000      6856.000000           7000.000000   \n",
       "mean     39.622799         3.187857        13.385064              2.367143   \n",
       "std      13.606920         1.065102        10.364188              1.149395   \n",
       "min      19.000000         1.000000         0.000000              0.000000   \n",
       "25%      27.000000         3.000000         5.000000              1.000000   \n",
       "50%      37.000000         3.000000        10.000000              2.000000   \n",
       "75%      52.000000         4.000000        21.000000              3.000000   \n",
       "max      65.000000         5.000000        43.000000              4.000000   \n",
       "\n",
       "       growth_rate  Travel_Rate   Post_Level    Pay_Scale  Work_Life_balance  \\\n",
       "count  7000.000000  7000.000000  7000.000000  6991.000000        6989.000000   \n",
       "mean     47.064286     0.817857     2.798000     6.006294           2.387895   \n",
       "std      15.761406     0.648205     1.163721     2.058435           1.122786   \n",
       "min      20.000000     0.000000     1.000000     1.000000           1.000000   \n",
       "25%      33.000000     0.000000     2.000000     5.000000           1.000000   \n",
       "50%      47.000000     1.000000     3.000000     6.000000           2.000000   \n",
       "75%      61.000000     1.000000     3.000000     8.000000           3.000000   \n",
       "max      74.000000     2.000000     5.000000    10.000000           5.000000   \n",
       "\n",
       "              VAR1         VAR2         VAR3         VAR4         VAR5  \\\n",
       "count  7000.000000  6423.000000  7000.000000  6344.000000  7000.000000   \n",
       "mean      3.098571    -0.008126    -0.013606     1.891078     2.834143   \n",
       "std       0.836377     0.989850     0.986933     0.529403     0.938945   \n",
       "min       1.000000    -1.817600    -2.776200     1.000000     1.000000   \n",
       "25%       3.000000    -0.961200    -0.453700     2.000000     2.000000   \n",
       "50%       3.000000    -0.104800    -0.453700     2.000000     3.000000   \n",
       "75%       3.000000     0.751600     0.707500     2.000000     3.000000   \n",
       "max       5.000000     1.608100     1.868800     3.000000     5.000000   \n",
       "\n",
       "              VAR6         VAR7  Attrition_rate  \n",
       "count  7000.000000  7000.000000     7000.000000  \n",
       "mean      7.101286     3.257000        0.189376  \n",
       "std       1.164262     0.925319        0.185753  \n",
       "min       5.000000     1.000000        0.000000  \n",
       "25%       6.000000     3.000000        0.070400  \n",
       "50%       7.000000     3.000000        0.142650  \n",
       "75%       8.000000     4.000000        0.235000  \n",
       "max       9.000000     5.000000        0.995900  "
      ]
     },
     "execution_count": 46,
     "metadata": {},
     "output_type": "execute_result"
    }
   ],
   "source": [
    "# training_dataframe.describe()"
   ]
  },
  {
   "cell_type": "code",
   "execution_count": 47,
   "id": "45fd3e1e",
   "metadata": {},
   "outputs": [
    {
     "data": {
      "text/plain": [
       "array([[<AxesSubplot:title={'center':'Age'}>,\n",
       "        <AxesSubplot:title={'center':'Education_Level'}>,\n",
       "        <AxesSubplot:title={'center':'Time_of_service'}>,\n",
       "        <AxesSubplot:title={'center':'Time_since_promotion'}>],\n",
       "       [<AxesSubplot:title={'center':'growth_rate'}>,\n",
       "        <AxesSubplot:title={'center':'Travel_Rate'}>,\n",
       "        <AxesSubplot:title={'center':'Post_Level'}>,\n",
       "        <AxesSubplot:title={'center':'Pay_Scale'}>],\n",
       "       [<AxesSubplot:title={'center':'Work_Life_balance'}>,\n",
       "        <AxesSubplot:title={'center':'VAR1'}>,\n",
       "        <AxesSubplot:title={'center':'VAR2'}>,\n",
       "        <AxesSubplot:title={'center':'VAR3'}>],\n",
       "       [<AxesSubplot:title={'center':'VAR4'}>,\n",
       "        <AxesSubplot:title={'center':'VAR5'}>,\n",
       "        <AxesSubplot:title={'center':'VAR6'}>,\n",
       "        <AxesSubplot:title={'center':'VAR7'}>],\n",
       "       [<AxesSubplot:title={'center':'Attrition_rate'}>, <AxesSubplot:>,\n",
       "        <AxesSubplot:>, <AxesSubplot:>]], dtype=object)"
      ]
     },
     "execution_count": 47,
     "metadata": {},
     "output_type": "execute_result"
    },
    {
     "data": {
      "image/png": "[encoded data removed]",
      "text/plain": [
       "<Figure size 1440x1080 with 20 Axes>"
      ]
     },
     "metadata": {
      "needs_background": "light"
     },
     "output_type": "display_data"
    }
   ],
   "source": [
    "# # Data Distribution\n",
    "# training_dataframe.hist(bins = 50, figsize = (20,15))"
   ]
  },
  {
   "cell_type": "code",
   "execution_count": 48,
   "id": "db1ab8f4",
   "metadata": {},
   "outputs": [
    {
     "name": "stdout",
     "output_type": "stream",
     "text": [
      "Index(['Gender', 'Age', 'Education_Level', 'Relationship_Status', 'Hometown',\n",
      "       'Unit', 'Decision_skill_possess', 'Time_of_service',\n",
      "       'Time_since_promotion', 'growth_rate', 'Travel_Rate', 'Post_Level',\n",
      "       'Pay_Scale', 'Compensation_and_Benefits', 'Work_Life_balance', 'VAR1',\n",
      "       'VAR2', 'VAR3', 'VAR4', 'VAR5', 'VAR6', 'VAR7', 'Attrition_rate'],\n",
      "      dtype='object')\n"
     ]
    }
   ],
   "source": [
    "# # All the columns\n",
    "# print(training_dataframe.columns)"
   ]
  },
  {
   "cell_type": "code",
   "execution_count": 49,
   "id": "a4b5d1cd",
   "metadata": {},
   "outputs": [
    {
     "data": {
      "text/html": [
       "<div>\n",
       "<style scoped>\n",
       "    .dataframe tbody tr th:only-of-type {\n",
       "        vertical-align: middle;\n",
       "    }\n",
       "\n",
       "    .dataframe tbody tr th {\n",
       "        vertical-align: top;\n",
       "    }\n",
       "\n",
       "    .dataframe thead th {\n",
       "        text-align: right;\n",
       "    }\n",
       "</style>\n",
       "<table border=\"1\" class=\"dataframe\">\n",
       "  <thead>\n",
       "    <tr style=\"text-align: right;\">\n",
       "      <th></th>\n",
       "      <th>Gender</th>\n",
       "      <th>Age</th>\n",
       "      <th>Education_Level</th>\n",
       "      <th>Relationship_Status</th>\n",
       "      <th>Hometown</th>\n",
       "      <th>Unit</th>\n",
       "      <th>Decision_skill_possess</th>\n",
       "      <th>Time_of_service</th>\n",
       "      <th>Time_since_promotion</th>\n",
       "      <th>growth_rate</th>\n",
       "      <th>...</th>\n",
       "      <th>Compensation_and_Benefits</th>\n",
       "      <th>Work_Life_balance</th>\n",
       "      <th>VAR1</th>\n",
       "      <th>VAR2</th>\n",
       "      <th>VAR3</th>\n",
       "      <th>VAR4</th>\n",
       "      <th>VAR5</th>\n",
       "      <th>VAR6</th>\n",
       "      <th>VAR7</th>\n",
       "      <th>Attrition_rate</th>\n",
       "    </tr>\n",
       "    <tr>\n",
       "      <th>Employee_ID</th>\n",
       "      <th></th>\n",
       "      <th></th>\n",
       "      <th></th>\n",
       "      <th></th>\n",
       "      <th></th>\n",
       "      <th></th>\n",
       "      <th></th>\n",
       "      <th></th>\n",
       "      <th></th>\n",
       "      <th></th>\n",
       "      <th></th>\n",
       "      <th></th>\n",
       "      <th></th>\n",
       "      <th></th>\n",
       "      <th></th>\n",
       "      <th></th>\n",
       "      <th></th>\n",
       "      <th></th>\n",
       "      <th></th>\n",
       "      <th></th>\n",
       "      <th></th>\n",
       "    </tr>\n",
       "  </thead>\n",
       "  <tbody>\n",
       "    <tr>\n",
       "      <th>EID_23371</th>\n",
       "      <td>F</td>\n",
       "      <td>42.0</td>\n",
       "      <td>4</td>\n",
       "      <td>Married</td>\n",
       "      <td>Franklin</td>\n",
       "      <td>IT</td>\n",
       "      <td>Conceptual</td>\n",
       "      <td>4.0</td>\n",
       "      <td>4</td>\n",
       "      <td>33</td>\n",
       "      <td>...</td>\n",
       "      <td>type2</td>\n",
       "      <td>3.0</td>\n",
       "      <td>4</td>\n",
       "      <td>0.7516</td>\n",
       "      <td>1.8688</td>\n",
       "      <td>2.0</td>\n",
       "      <td>4</td>\n",
       "      <td>5</td>\n",
       "      <td>3</td>\n",
       "      <td>0.1841</td>\n",
       "    </tr>\n",
       "    <tr>\n",
       "      <th>EID_18000</th>\n",
       "      <td>M</td>\n",
       "      <td>24.0</td>\n",
       "      <td>3</td>\n",
       "      <td>Single</td>\n",
       "      <td>Springfield</td>\n",
       "      <td>Logistics</td>\n",
       "      <td>Analytical</td>\n",
       "      <td>5.0</td>\n",
       "      <td>4</td>\n",
       "      <td>36</td>\n",
       "      <td>...</td>\n",
       "      <td>type2</td>\n",
       "      <td>4.0</td>\n",
       "      <td>3</td>\n",
       "      <td>-0.9612</td>\n",
       "      <td>-0.4537</td>\n",
       "      <td>2.0</td>\n",
       "      <td>3</td>\n",
       "      <td>5</td>\n",
       "      <td>3</td>\n",
       "      <td>0.0670</td>\n",
       "    </tr>\n",
       "    <tr>\n",
       "      <th>EID_3891</th>\n",
       "      <td>F</td>\n",
       "      <td>58.0</td>\n",
       "      <td>3</td>\n",
       "      <td>Married</td>\n",
       "      <td>Clinton</td>\n",
       "      <td>Quality</td>\n",
       "      <td>Conceptual</td>\n",
       "      <td>27.0</td>\n",
       "      <td>3</td>\n",
       "      <td>51</td>\n",
       "      <td>...</td>\n",
       "      <td>type2</td>\n",
       "      <td>1.0</td>\n",
       "      <td>4</td>\n",
       "      <td>-0.9612</td>\n",
       "      <td>-0.4537</td>\n",
       "      <td>3.0</td>\n",
       "      <td>3</td>\n",
       "      <td>8</td>\n",
       "      <td>3</td>\n",
       "      <td>0.0851</td>\n",
       "    </tr>\n",
       "    <tr>\n",
       "      <th>EID_17492</th>\n",
       "      <td>F</td>\n",
       "      <td>26.0</td>\n",
       "      <td>3</td>\n",
       "      <td>Single</td>\n",
       "      <td>Lebanon</td>\n",
       "      <td>Human Resource Management</td>\n",
       "      <td>Behavioral</td>\n",
       "      <td>4.0</td>\n",
       "      <td>3</td>\n",
       "      <td>56</td>\n",
       "      <td>...</td>\n",
       "      <td>type2</td>\n",
       "      <td>1.0</td>\n",
       "      <td>3</td>\n",
       "      <td>-1.8176</td>\n",
       "      <td>-0.4537</td>\n",
       "      <td>NaN</td>\n",
       "      <td>3</td>\n",
       "      <td>7</td>\n",
       "      <td>3</td>\n",
       "      <td>0.0668</td>\n",
       "    </tr>\n",
       "    <tr>\n",
       "      <th>EID_22534</th>\n",
       "      <td>F</td>\n",
       "      <td>31.0</td>\n",
       "      <td>1</td>\n",
       "      <td>Married</td>\n",
       "      <td>Springfield</td>\n",
       "      <td>Logistics</td>\n",
       "      <td>Conceptual</td>\n",
       "      <td>5.0</td>\n",
       "      <td>4</td>\n",
       "      <td>62</td>\n",
       "      <td>...</td>\n",
       "      <td>type3</td>\n",
       "      <td>3.0</td>\n",
       "      <td>1</td>\n",
       "      <td>0.7516</td>\n",
       "      <td>-0.4537</td>\n",
       "      <td>2.0</td>\n",
       "      <td>2</td>\n",
       "      <td>8</td>\n",
       "      <td>2</td>\n",
       "      <td>0.1827</td>\n",
       "    </tr>\n",
       "  </tbody>\n",
       "</table>\n",
       "<p>5 rows × 23 columns</p>\n",
       "</div>"
      ],
      "text/plain": [
       "            Gender   Age  Education_Level Relationship_Status     Hometown  \\\n",
       "Employee_ID                                                                  \n",
       "EID_23371        F  42.0                4             Married     Franklin   \n",
       "EID_18000        M  24.0                3              Single  Springfield   \n",
       "EID_3891         F  58.0                3             Married      Clinton   \n",
       "EID_17492        F  26.0                3              Single      Lebanon   \n",
       "EID_22534        F  31.0                1             Married  Springfield   \n",
       "\n",
       "                                  Unit Decision_skill_possess  \\\n",
       "Employee_ID                                                     \n",
       "EID_23371                           IT             Conceptual   \n",
       "EID_18000                    Logistics             Analytical   \n",
       "EID_3891                       Quality             Conceptual   \n",
       "EID_17492    Human Resource Management             Behavioral   \n",
       "EID_22534                    Logistics             Conceptual   \n",
       "\n",
       "             Time_of_service  Time_since_promotion  growth_rate  ...  \\\n",
       "Employee_ID                                                      ...   \n",
       "EID_23371                4.0                     4           33  ...   \n",
       "EID_18000                5.0                     4           36  ...   \n",
       "EID_3891                27.0                     3           51  ...   \n",
       "EID_17492                4.0                     3           56  ...   \n",
       "EID_22534                5.0                     4           62  ...   \n",
       "\n",
       "             Compensation_and_Benefits  Work_Life_balance  VAR1    VAR2  \\\n",
       "Employee_ID                                                               \n",
       "EID_23371                        type2                3.0     4  0.7516   \n",
       "EID_18000                        type2                4.0     3 -0.9612   \n",
       "EID_3891                         type2                1.0     4 -0.9612   \n",
       "EID_17492                        type2                1.0     3 -1.8176   \n",
       "EID_22534                        type3                3.0     1  0.7516   \n",
       "\n",
       "               VAR3  VAR4  VAR5  VAR6  VAR7  Attrition_rate  \n",
       "Employee_ID                                                  \n",
       "EID_23371    1.8688   2.0     4     5     3          0.1841  \n",
       "EID_18000   -0.4537   2.0     3     5     3          0.0670  \n",
       "EID_3891    -0.4537   3.0     3     8     3          0.0851  \n",
       "EID_17492   -0.4537   NaN     3     7     3          0.0668  \n",
       "EID_22534   -0.4537   2.0     2     8     2          0.1827  \n",
       "\n",
       "[5 rows x 23 columns]"
      ]
     },
     "execution_count": 49,
     "metadata": {},
     "output_type": "execute_result"
    }
   ],
   "source": [
    "# training_dataframe.head()"
   ]
  },
  {
   "cell_type": "markdown",
   "id": "bc0c967f",
   "metadata": {},
   "source": [
    "#### Data-Preprocessing"
   ]
  },
  {
   "cell_type": "markdown",
   "id": "60e678b7",
   "metadata": {},
   "source": [
    "To deal with columns having missing values we will perform imputation on the column with missing data."
   ]
  },
  {
   "cell_type": "code",
   "execution_count": 50,
   "id": "a287dae9",
   "metadata": {},
   "outputs": [
    {
     "name": "stdout",
     "output_type": "stream",
     "text": [
      "['Age', 'Time_of_service', 'Pay_Scale', 'Work_Life_balance', 'VAR2', 'VAR4']\n"
     ]
    }
   ],
   "source": [
    "# ## Columns with missing values\n",
    "# cols_with_missing = [col for col in training_dataframe.columns if training_dataframe[col].isnull().any()]\n",
    "# print(cols_with_missing)"
   ]
  },
  {
   "cell_type": "markdown",
   "id": "ac5b4386",
   "metadata": {},
   "source": [
    "Before imputation we have to check for categorical values."
   ]
  },
  {
   "cell_type": "markdown",
   "id": "f09b5d7e",
   "metadata": {},
   "source": [
    "#### Categorical values:"
   ]
  },
  {
   "cell_type": "code",
   "execution_count": 51,
   "id": "ba735d3f",
   "metadata": {},
   "outputs": [
    {
     "name": "stdout",
     "output_type": "stream",
     "text": [
      "['Gender', 'Relationship_Status', 'Hometown', 'Unit', 'Decision_skill_possess', 'Compensation_and_Benefits']\n"
     ]
    }
   ],
   "source": [
    "# # Get a list of categorical columns\n",
    "\n",
    "# s = (training_dataframe.dtypes == 'object')\n",
    "# object_cols = list(s[s].index)\n",
    "# print(object_cols)"
   ]
  },
  {
   "cell_type": "code",
   "execution_count": 52,
   "id": "78e9ee4d",
   "metadata": {},
   "outputs": [
    {
     "data": {
      "text/html": [
       "<div>\n",
       "<style scoped>\n",
       "    .dataframe tbody tr th:only-of-type {\n",
       "        vertical-align: middle;\n",
       "    }\n",
       "\n",
       "    .dataframe tbody tr th {\n",
       "        vertical-align: top;\n",
       "    }\n",
       "\n",
       "    .dataframe thead th {\n",
       "        text-align: right;\n",
       "    }\n",
       "</style>\n",
       "<table border=\"1\" class=\"dataframe\">\n",
       "  <thead>\n",
       "    <tr style=\"text-align: right;\">\n",
       "      <th></th>\n",
       "      <th>Gender</th>\n",
       "      <th>Age</th>\n",
       "      <th>Education_Level</th>\n",
       "      <th>Relationship_Status</th>\n",
       "      <th>Hometown</th>\n",
       "      <th>Unit</th>\n",
       "      <th>Decision_skill_possess</th>\n",
       "      <th>Time_of_service</th>\n",
       "      <th>Time_since_promotion</th>\n",
       "      <th>growth_rate</th>\n",
       "      <th>...</th>\n",
       "      <th>Compensation_and_Benefits</th>\n",
       "      <th>Work_Life_balance</th>\n",
       "      <th>VAR1</th>\n",
       "      <th>VAR2</th>\n",
       "      <th>VAR3</th>\n",
       "      <th>VAR4</th>\n",
       "      <th>VAR5</th>\n",
       "      <th>VAR6</th>\n",
       "      <th>VAR7</th>\n",
       "      <th>Attrition_rate</th>\n",
       "    </tr>\n",
       "    <tr>\n",
       "      <th>Employee_ID</th>\n",
       "      <th></th>\n",
       "      <th></th>\n",
       "      <th></th>\n",
       "      <th></th>\n",
       "      <th></th>\n",
       "      <th></th>\n",
       "      <th></th>\n",
       "      <th></th>\n",
       "      <th></th>\n",
       "      <th></th>\n",
       "      <th></th>\n",
       "      <th></th>\n",
       "      <th></th>\n",
       "      <th></th>\n",
       "      <th></th>\n",
       "      <th></th>\n",
       "      <th></th>\n",
       "      <th></th>\n",
       "      <th></th>\n",
       "      <th></th>\n",
       "      <th></th>\n",
       "    </tr>\n",
       "  </thead>\n",
       "  <tbody>\n",
       "    <tr>\n",
       "      <th>EID_23371</th>\n",
       "      <td>F</td>\n",
       "      <td>42.0</td>\n",
       "      <td>4</td>\n",
       "      <td>Married</td>\n",
       "      <td>Franklin</td>\n",
       "      <td>IT</td>\n",
       "      <td>Conceptual</td>\n",
       "      <td>4.0</td>\n",
       "      <td>4</td>\n",
       "      <td>33</td>\n",
       "      <td>...</td>\n",
       "      <td>type2</td>\n",
       "      <td>3.0</td>\n",
       "      <td>4</td>\n",
       "      <td>0.7516</td>\n",
       "      <td>1.8688</td>\n",
       "      <td>2.0</td>\n",
       "      <td>4</td>\n",
       "      <td>5</td>\n",
       "      <td>3</td>\n",
       "      <td>0.1841</td>\n",
       "    </tr>\n",
       "    <tr>\n",
       "      <th>EID_18000</th>\n",
       "      <td>M</td>\n",
       "      <td>24.0</td>\n",
       "      <td>3</td>\n",
       "      <td>Single</td>\n",
       "      <td>Springfield</td>\n",
       "      <td>Logistics</td>\n",
       "      <td>Analytical</td>\n",
       "      <td>5.0</td>\n",
       "      <td>4</td>\n",
       "      <td>36</td>\n",
       "      <td>...</td>\n",
       "      <td>type2</td>\n",
       "      <td>4.0</td>\n",
       "      <td>3</td>\n",
       "      <td>-0.9612</td>\n",
       "      <td>-0.4537</td>\n",
       "      <td>2.0</td>\n",
       "      <td>3</td>\n",
       "      <td>5</td>\n",
       "      <td>3</td>\n",
       "      <td>0.0670</td>\n",
       "    </tr>\n",
       "    <tr>\n",
       "      <th>EID_3891</th>\n",
       "      <td>F</td>\n",
       "      <td>58.0</td>\n",
       "      <td>3</td>\n",
       "      <td>Married</td>\n",
       "      <td>Clinton</td>\n",
       "      <td>Quality</td>\n",
       "      <td>Conceptual</td>\n",
       "      <td>27.0</td>\n",
       "      <td>3</td>\n",
       "      <td>51</td>\n",
       "      <td>...</td>\n",
       "      <td>type2</td>\n",
       "      <td>1.0</td>\n",
       "      <td>4</td>\n",
       "      <td>-0.9612</td>\n",
       "      <td>-0.4537</td>\n",
       "      <td>3.0</td>\n",
       "      <td>3</td>\n",
       "      <td>8</td>\n",
       "      <td>3</td>\n",
       "      <td>0.0851</td>\n",
       "    </tr>\n",
       "    <tr>\n",
       "      <th>EID_17492</th>\n",
       "      <td>F</td>\n",
       "      <td>26.0</td>\n",
       "      <td>3</td>\n",
       "      <td>Single</td>\n",
       "      <td>Lebanon</td>\n",
       "      <td>Human Resource Management</td>\n",
       "      <td>Behavioral</td>\n",
       "      <td>4.0</td>\n",
       "      <td>3</td>\n",
       "      <td>56</td>\n",
       "      <td>...</td>\n",
       "      <td>type2</td>\n",
       "      <td>1.0</td>\n",
       "      <td>3</td>\n",
       "      <td>-1.8176</td>\n",
       "      <td>-0.4537</td>\n",
       "      <td>NaN</td>\n",
       "      <td>3</td>\n",
       "      <td>7</td>\n",
       "      <td>3</td>\n",
       "      <td>0.0668</td>\n",
       "    </tr>\n",
       "    <tr>\n",
       "      <th>EID_22534</th>\n",
       "      <td>F</td>\n",
       "      <td>31.0</td>\n",
       "      <td>1</td>\n",
       "      <td>Married</td>\n",
       "      <td>Springfield</td>\n",
       "      <td>Logistics</td>\n",
       "      <td>Conceptual</td>\n",
       "      <td>5.0</td>\n",
       "      <td>4</td>\n",
       "      <td>62</td>\n",
       "      <td>...</td>\n",
       "      <td>type3</td>\n",
       "      <td>3.0</td>\n",
       "      <td>1</td>\n",
       "      <td>0.7516</td>\n",
       "      <td>-0.4537</td>\n",
       "      <td>2.0</td>\n",
       "      <td>2</td>\n",
       "      <td>8</td>\n",
       "      <td>2</td>\n",
       "      <td>0.1827</td>\n",
       "    </tr>\n",
       "  </tbody>\n",
       "</table>\n",
       "<p>5 rows × 23 columns</p>\n",
       "</div>"
      ],
      "text/plain": [
       "            Gender   Age  Education_Level Relationship_Status     Hometown  \\\n",
       "Employee_ID                                                                  \n",
       "EID_23371        F  42.0                4             Married     Franklin   \n",
       "EID_18000        M  24.0                3              Single  Springfield   \n",
       "EID_3891         F  58.0                3             Married      Clinton   \n",
       "EID_17492        F  26.0                3              Single      Lebanon   \n",
       "EID_22534        F  31.0                1             Married  Springfield   \n",
       "\n",
       "                                  Unit Decision_skill_possess  \\\n",
       "Employee_ID                                                     \n",
       "EID_23371                           IT             Conceptual   \n",
       "EID_18000                    Logistics             Analytical   \n",
       "EID_3891                       Quality             Conceptual   \n",
       "EID_17492    Human Resource Management             Behavioral   \n",
       "EID_22534                    Logistics             Conceptual   \n",
       "\n",
       "             Time_of_service  Time_since_promotion  growth_rate  ...  \\\n",
       "Employee_ID                                                      ...   \n",
       "EID_23371                4.0                     4           33  ...   \n",
       "EID_18000                5.0                     4           36  ...   \n",
       "EID_3891                27.0                     3           51  ...   \n",
       "EID_17492                4.0                     3           56  ...   \n",
       "EID_22534                5.0                     4           62  ...   \n",
       "\n",
       "             Compensation_and_Benefits  Work_Life_balance  VAR1    VAR2  \\\n",
       "Employee_ID                                                               \n",
       "EID_23371                        type2                3.0     4  0.7516   \n",
       "EID_18000                        type2                4.0     3 -0.9612   \n",
       "EID_3891                         type2                1.0     4 -0.9612   \n",
       "EID_17492                        type2                1.0     3 -1.8176   \n",
       "EID_22534                        type3                3.0     1  0.7516   \n",
       "\n",
       "               VAR3  VAR4  VAR5  VAR6  VAR7  Attrition_rate  \n",
       "Employee_ID                                                  \n",
       "EID_23371    1.8688   2.0     4     5     3          0.1841  \n",
       "EID_18000   -0.4537   2.0     3     5     3          0.0670  \n",
       "EID_3891    -0.4537   3.0     3     8     3          0.0851  \n",
       "EID_17492   -0.4537   NaN     3     7     3          0.0668  \n",
       "EID_22534   -0.4537   2.0     2     8     2          0.1827  \n",
       "\n",
       "[5 rows x 23 columns]"
      ]
     },
     "execution_count": 52,
     "metadata": {},
     "output_type": "execute_result"
    }
   ],
   "source": [
    "# # Remove rows with missing target, separate target from predictors in training data\n",
    "# X_train_full = training_dataframe\n",
    "# X_train_full.dropna(axis=0, subset=['Attrition_rate'], inplace=True, how = \"any\")\n",
    "# y_train_full = X_train_full.Attrition_rate\n",
    "# # X_train_full.drop(['Attrition_rate'], axis=1, inplace=True)\n",
    "\n",
    "# X_train_full.head()"
   ]
  },
  {
   "cell_type": "markdown",
   "id": "b5fea12a",
   "metadata": {},
   "source": [
    "Fitting a label encoder to a column in the training data creates a corresponding integer-valued label for each unique value that appears in the training data."
   ]
  },
  {
   "cell_type": "code",
   "execution_count": 53,
   "id": "f88e35c5",
   "metadata": {},
   "outputs": [
    {
     "ename": "NameError",
     "evalue": "name 'testing_dataframe' is not defined",
     "output_type": "error",
     "traceback": [
      "\u001b[1;31m---------------------------------------------------------------------------\u001b[0m",
      "\u001b[1;31mNameError\u001b[0m                                 Traceback (most recent call last)",
      "Input \u001b[1;32mIn [53]\u001b[0m, in \u001b[0;36m<cell line: 1>\u001b[1;34m()\u001b[0m\n\u001b[1;32m----> 1\u001b[0m X_valid_full \u001b[38;5;241m=\u001b[39m \u001b[43mtesting_dataframe\u001b[49m\n\u001b[0;32m      2\u001b[0m labelEncoder \u001b[38;5;241m=\u001b[39m LabelEncoder()\n\u001b[0;32m      3\u001b[0m \u001b[38;5;28;01mfor\u001b[39;00m col \u001b[38;5;129;01min\u001b[39;00m object_cols:\n",
      "\u001b[1;31mNameError\u001b[0m: name 'testing_dataframe' is not defined"
     ]
    }
   ],
   "source": [
    "# X_valid_full = testing_dataframe\n",
    "# labelEncoder = LabelEncoder()\n",
    "# for col in object_cols:\n",
    "#     X_train_full[col] = labelEncoder.fit_transform(X_train_full[col])\n",
    "#     X_valid_full[col] = labelEncoder.transform(X_valid_full[col])"
   ]
  },
  {
   "cell_type": "code",
   "execution_count": null,
   "id": "568f53e0",
   "metadata": {},
   "outputs": [],
   "source": [
    "# X_train_full.head()"
   ]
  },
  {
   "cell_type": "markdown",
   "id": "7d2dd03a",
   "metadata": {},
   "source": [
    "#### Imputation: "
   ]
  },
  {
   "cell_type": "code",
   "execution_count": null,
   "id": "7a8a277e",
   "metadata": {
    "scrolled": true
   },
   "outputs": [],
   "source": [
    "# si = SimpleImputer(strategy='most_frequent')\n",
    "# X_train_imputed = pd.DataFrame(si.fit_transform(X_train_full))\n",
    "# # It is important to fit_transform the training data\n",
    "# X_train_imputed.columns = X_train_full.columns\n",
    "# # X_train_imputed.index = X_train_full.index\n",
    "# print(\"shape of X_train_imputed = \",X_train_imputed.shape)\n",
    "# X_train_imputed.head()"
   ]
  },
  {
   "cell_type": "markdown",
   "id": "7bd88361",
   "metadata": {},
   "source": [
    "### Data Visualization and analysis:"
   ]
  },
  {
   "cell_type": "markdown",
   "id": "9c54f5fd",
   "metadata": {},
   "source": [
    "#### Attrition rate and Age:"
   ]
  },
  {
   "cell_type": "code",
   "execution_count": null,
   "id": "c89fcd68",
   "metadata": {},
   "outputs": [],
   "source": [
    "# data = X_train_imputed\n",
    "# plt.figure(figsize=(20,6))\n",
    "# plt.title(\"Attrition Rate Vs Age\")\n",
    "# sns.lineplot(y=data[\"Attrition_rate\"],x=data[\"Age\"])"
   ]
  },
  {
   "cell_type": "markdown",
   "id": "ac5d45e1",
   "metadata": {},
   "source": [
    "**From this trend it is evident that employee attrition rate is more profound between the age of 35 to 40. This may be due to a variety of factors such as low work life ballance or less job satisfaction**"
   ]
  },
  {
   "cell_type": "markdown",
   "id": "8a64eade",
   "metadata": {},
   "source": [
    "#### Attrition rate and Time_Since_LastPromotion:"
   ]
  },
  {
   "cell_type": "code",
   "execution_count": null,
   "id": "961e2737",
   "metadata": {},
   "outputs": [],
   "source": [
    "# plt.figure(figsize=(20,6))\n",
    "# plt.title(\"Attrition Rate Vs time_since_promotion\")\n",
    "# sns.lineplot(y=data[\"Attrition_rate\"],x=data[\"Time_since_promotion\"])"
   ]
  },
  {
   "cell_type": "markdown",
   "id": "e61bd904",
   "metadata": {},
   "source": [
    "**We see that the attrition rate linearly dependent on the time since last promotion but increases a little bit if gap increases more than 3.5 years**"
   ]
  },
  {
   "cell_type": "markdown",
   "id": "acaa5b21",
   "metadata": {},
   "source": [
    "#### Attrition Rate of Male&Female Employees:"
   ]
  },
  {
   "cell_type": "code",
   "execution_count": null,
   "id": "83248d2e",
   "metadata": {},
   "outputs": [],
   "source": [
    "# plt.figure(figsize= (8,6))\n",
    "# plt.title(\"Attrition Rate Vs Gender\")\n",
    "# sns.barplot(y=data[\"Attrition_rate\"],x=data[\"Gender\"])\n",
    "# plt.legend(title='Gender', loc='lower left', labels=['Male : 1', 'Female : 0'])"
   ]
  },
  {
   "cell_type": "markdown",
   "id": "eda55fed",
   "metadata": {},
   "source": [
    "**From this bar plot it is evident that that Male are more likely to leave an organisation than their female counterparts. Still, the difference is not huge enough to have any signifigant contribution to the attrition rates**"
   ]
  },
  {
   "cell_type": "markdown",
   "id": "8425f606",
   "metadata": {},
   "source": [
    "#### Attrition VS Education:"
   ]
  },
  {
   "cell_type": "code",
   "execution_count": null,
   "id": "523ec1be",
   "metadata": {},
   "outputs": [],
   "source": [
    "# plt.figure(figsize=(20,6))\n",
    "# plt.title(\"Attrition Rate Vs eductaion_level\")\n",
    "# sns.lineplot(y=data[\"Attrition_rate\"],x=data[\"Education_Level\"])"
   ]
  },
  {
   "cell_type": "markdown",
   "id": "ea1f7042",
   "metadata": {},
   "source": [
    "**From the plot it is evident that attrition rates increases with a low level of education but the curve flatens out with an increase in the level of education. This might an important feature for predicting our target variable.**"
   ]
  },
  {
   "cell_type": "markdown",
   "id": "f9fe459b",
   "metadata": {},
   "source": [
    "#### Attrition VS work_life_balance"
   ]
  },
  {
   "cell_type": "code",
   "execution_count": null,
   "id": "09616b9f",
   "metadata": {},
   "outputs": [],
   "source": [
    "# plt.figure(figsize= (15,10))\n",
    "# plt.title(\"Attrition Rate Vs Work life balance\")\n",
    "# sns.barplot(y=data[\"Attrition_rate\"],x=data[\"Work_Life_balance\"])"
   ]
  },
  {
   "cell_type": "code",
   "execution_count": null,
   "id": "3c75e61f",
   "metadata": {},
   "outputs": [],
   "source": [
    "# plt.figure(figsize=(20,6))\n",
    "# plt.title(\"Attrition Rate Vs work_life_balance\")\n",
    "# sns.lineplot(y=data[\"Attrition_rate\"],x=data[\"Work_Life_balance\"])"
   ]
  },
  {
   "cell_type": "markdown",
   "id": "4ca7e91f",
   "metadata": {},
   "source": [
    "**According to our assumption work life balance does count towards the attrition rates of employees. There is a slight increase in the rates with an increase in work_life_balance value. There is a linear relation between the two.**\n",
    "\n"
   ]
  },
  {
   "cell_type": "markdown",
   "id": "5d9a0ea0",
   "metadata": {},
   "source": [
    "#### Attrition VS Pay_scale:"
   ]
  },
  {
   "cell_type": "code",
   "execution_count": null,
   "id": "02cff9c7",
   "metadata": {},
   "outputs": [],
   "source": [
    "# plt.figure(figsize=(20,6))\n",
    "# plt.title(\"Attrition Rate Vs Pay scale\")\n",
    "# sns.lineplot(y=data[\"Attrition_rate\"],x=data[\"Pay_Scale\"])"
   ]
  },
  {
   "cell_type": "code",
   "execution_count": null,
   "id": "298160c6",
   "metadata": {},
   "outputs": [],
   "source": [
    "# plt.figure(figsize= (15,10))\n",
    "# plt.title(\"Attrition Rate Vs Pay_scale\")\n",
    "# sns.barplot(y=data[\"Attrition_rate\"],x=data[\"Pay_Scale\"])"
   ]
  },
  {
   "cell_type": "markdown",
   "id": "e0b27906",
   "metadata": {},
   "source": [
    "**Initially there is a increase in attrition rates with respect to pay scale (till 3) then it slowly decreases and becomes stable over rest of the values and decreases beyond 8. Pay scale will be an interesting feature for our model.**"
   ]
  },
  {
   "cell_type": "markdown",
   "id": "f6cb1dcd",
   "metadata": {},
   "source": [
    "#### Attrition Rate VS Job_unit:"
   ]
  },
  {
   "cell_type": "code",
   "execution_count": null,
   "id": "15f6ea08",
   "metadata": {},
   "outputs": [],
   "source": [
    "# plt.figure(figsize= (15,10))\n",
    "# plt.title(\"Attrition Rate Vs Job Unit\")\n",
    "# sns.barplot(y=data[\"Attrition_rate\"],x=data[\"Unit\"])"
   ]
  },
  {
   "cell_type": "markdown",
   "id": "64a88a9c",
   "metadata": {},
   "source": [
    "**Thus the job department or unit such as IT, logistics, Quality control and HR is a good feature for prediction of our target.**"
   ]
  },
  {
   "cell_type": "markdown",
   "id": "f346ce9b",
   "metadata": {},
   "source": [
    "#### Attrition vs Compensation_and_Benefits"
   ]
  },
  {
   "cell_type": "code",
   "execution_count": null,
   "id": "805e2de2",
   "metadata": {},
   "outputs": [],
   "source": [
    "# plt.figure(figsize= (15,10))\n",
    "# plt.title(\"Attrition Rate Vs Compensation_and_Benefits\")\n",
    "# sns.barplot(y=data[\"Attrition_rate\"],x=data[\"Compensation_and_Benefits\"])"
   ]
  },
  {
   "cell_type": "markdown",
   "id": "31e480a5",
   "metadata": {},
   "source": [
    "**This shows that compensation and benefits are an important factor in deciding employee attrition rates.**"
   ]
  },
  {
   "cell_type": "code",
   "execution_count": null,
   "id": "d5ad1ba8",
   "metadata": {},
   "outputs": [],
   "source": [
    "# plt.title(\"Attrition Rate Vs Anominised variables\")\n",
    "# sns.lineplot(y=data[\"Attrition_rate\"],x=data[\"VAR1\"])"
   ]
  },
  {
   "cell_type": "code",
   "execution_count": null,
   "id": "28643abd",
   "metadata": {},
   "outputs": [],
   "source": [
    "# plt.title(\"Attrition Rate Vs Anominised variables\")\n",
    "# lst=[\"VAR2\",\"VAR3\",\"VAR4\",\"VAR5\",\"VAR6\",\"VAR7\"]\n",
    "# for i in lst:\n",
    "#     sns.lineplot(y=data[\"Attrition_rate\"],x=data[i])"
   ]
  },
  {
   "cell_type": "markdown",
   "id": "655dc56b",
   "metadata": {},
   "source": [
    "### Correlation Matrix:"
   ]
  },
  {
   "cell_type": "markdown",
   "id": "28045b2b",
   "metadata": {},
   "source": [
    "**Correlation states how the features are related to each other or the target variable. Heatmap makes it easy to identify which features are most related to the target variable**"
   ]
  },
  {
   "cell_type": "code",
   "execution_count": null,
   "id": "c141bfb0",
   "metadata": {},
   "outputs": [],
   "source": [
    "# corr_matrix = data.corr()\n",
    "# corr_matrix[\"Attrition_rate\"].sort_values(ascending = False)"
   ]
  },
  {
   "cell_type": "code",
   "execution_count": null,
   "id": "d70250a3",
   "metadata": {},
   "outputs": [],
   "source": [
    "# sample_data = data\n",
    "# plt.figure(figsize = (30,10))\n",
    "# corr = sample_data.corr()\n",
    "# ax = sns.heatmap(corr,vmin = -0.03,vmax = 0.03, center = 0,cmap=sns.diverging_palette(20, 220, n=200), square=True, linewidths = 0.5)\n",
    "\n",
    "# # ax.set_xticklabels( ax.get_xticklabels(),rotation=45, horizontalalignment='right')"
   ]
  },
  {
   "cell_type": "markdown",
   "id": "c52fd978",
   "metadata": {},
   "source": [
    "**From the last row of the correlation heat map we see the columns highly correlated to Attrition_rate are:**\n",
    "\n",
    "- Gender\n",
    "- Relationship_Status\n",
    "- Hometown\n",
    "- Unit\n",
    "- Decision_skill_possess\n",
    "- Time_since_promotion\n",
    "- growth_rate\n",
    "- Post_Level\n",
    "- Work_Life_balance\n",
    "- Compensation_and_Benefits\n",
    "- VAR 2\n",
    "- VAR 7\n",
    "- Time of service\n",
    "- Pay scale\n",
    "- age\n",
    "- Travel Rate"
   ]
  },
  {
   "cell_type": "markdown",
   "id": "7965cc75",
   "metadata": {},
   "source": [
    "### Building the ML model:"
   ]
  },
  {
   "cell_type": "markdown",
   "id": "4cc123cc",
   "metadata": {},
   "source": [
    "#### Spliting the training_dataframe into training and testing subsets"
   ]
  },
  {
   "cell_type": "code",
   "execution_count": null,
   "id": "86135f18",
   "metadata": {},
   "outputs": [],
   "source": [
    "# features_4 =[\"Gender\",\"Unit\",\"Hometown\",\"Relationship_Status\",\"Work_Life_balance\",\"Decision_skill_possess\",\"Post_Level\",\"growth_rate\",\"Time_since_promotion\",\"Travel_Rate\",                 \n",
    "# \"Age\",\"Pay_Scale\",\"Time_of_service\",\"Compensation_and_Benefits\"] \n",
    "\n",
    "# X = data[features_4]\n",
    "# y = data[\"Attrition_rate\"]\n",
    "\n",
    "# # Separating validation from training data\n",
    "# train_X, val_X, train_y, val_y = train_test_split(X,y,train_size=0.7, test_size=0.3,random_state = 0)"
   ]
  },
  {
   "cell_type": "markdown",
   "id": "3eb53aa6",
   "metadata": {},
   "source": [
    "#### Model_1 : Random Forest"
   ]
  },
  {
   "cell_type": "code",
   "execution_count": null,
   "id": "fc621ba0",
   "metadata": {},
   "outputs": [],
   "source": [
    "# param_random_tree = {\"max_depth\": [None],\n",
    "#               \"max_features\": [10,15, 20, 30, 43],\n",
    "#               \"min_samples_split\": [2, 3, 10,15],\n",
    "#               \"min_samples_leaf\": [1, 3, 10,15],\n",
    "#               \"n_estimators\" :[50,100,200,300,500]}\n",
    "\n",
    "# random = RandomForestRegressor(random_state=42)\n",
    "# clf = GridSearchCV(random, param_random_tree, cv=5,  scoring='neg_mean_squared_error',n_jobs= 4, verbose = 1)\n",
    "# clf.fit(train_X, train_y)\n",
    "# print(clf.best_estimator_)\n",
    "# print(clf.best_score_)\n",
    "# # (max_features=10, min_samples_leaf=15, n_estimators=500, random_state=42)"
   ]
  },
  {
   "cell_type": "code",
   "execution_count": null,
   "id": "fd305ed3",
   "metadata": {},
   "outputs": [],
   "source": [
    "# # Model selection and Training\n",
    "# scores = {}\n",
    "# random = RandomForestRegressor(max_features=10, min_samples_leaf=15, n_estimators=500, random_state=42)\n",
    "# random.fit(train_X,train_y)\n",
    "# model_rf_preds = random.predict(val_X)\n",
    "# mae_score_rf = mean_absolute_error(val_y,model_rf_preds)\n",
    "# rmse_rf = mean_squared_error(val_y, model_rf_preds, squared=False)\n",
    "# print(\"Mean absolute error with Random Forest = \",mae_score_rf)\n",
    "# print(\"Root mean square error with Random Forest = \",rmse_rf)\n",
    "# print(\"Final Score for comp = \",100*(1-rmse_rf))\n",
    "# score=100*(1-rmse_rf)\n",
    "# scores['RF'] = score\n",
    "# scores"
   ]
  },
  {
   "cell_type": "markdown",
   "id": "af61df67",
   "metadata": {},
   "source": [
    "#### Model_2 : XGBoost"
   ]
  },
  {
   "cell_type": "code",
   "execution_count": null,
   "id": "4a5e803c",
   "metadata": {},
   "outputs": [],
   "source": [
    "# import xgboost\n",
    "# xgboost_params = {'max_features': [10,15, 20, 30],\n",
    "#                   'n_estimators' :[25,50,100],\n",
    "#                    'learning_rate': [0.0001, 0.001, 0.01, 0.1],\n",
    "#                   'gamma':[0.5, 0.1, 1, 10],\n",
    "#                   'max_depth':[5, 10, 15]}\n",
    "\n",
    "# xgb = xgboost.XGBRegressor(random_state=42)\n",
    "# clf_xgb = GridSearchCV(xgb, xgboost_params, cv=5,  scoring='neg_mean_squared_error',n_jobs= 4, verbose = 1)\n",
    "# clf_xgb.fit(train_X, train_y)\n",
    "# print(clf_xgb.best_estimator_)\n",
    "# print(clf_xgb.best_score_)\n",
    "# scores['RF'] = score"
   ]
  },
  {
   "cell_type": "code",
   "execution_count": null,
   "id": "e1688beb",
   "metadata": {},
   "outputs": [],
   "source": [
    "# xgbModel_updated = xgboost.XGBRegressor(gamma=1, random_state=42, max_depth=5, max_features=10,learning_rate=0.1, n_estimators=100)\n",
    "# xgbModel_updated.fit(train_X,train_y)\n",
    "# predictions_xgbModel_updated = xgbModel_updated.predict(val_X)\n",
    "# mae_xgbModel_updated = mean_absolute_error(predictions_xgbModel_updated,val_y)\n",
    "# print(\"MAE on updated XGB model wiht early stopping= \",mae_xgbModel_updated)\n",
    "# xgbModel_updated_rmse = mean_squared_error(predictions_xgbModel_updated,val_y,squared = False)\n",
    "# print(\"RMSE on xgbModel with early stopping= \",xgbModel_updated_rmse)\n",
    "# print(\"Final Score for comp = \",100*(1-xgbModel_updated_rmse))\n",
    "# score=100*(1-xgbModel_updated_rmse)\n",
    "# scores['XGB'] = score\n",
    "# scores"
   ]
  },
  {
   "cell_type": "markdown",
   "id": "66b2a22f",
   "metadata": {},
   "source": [
    "#### Model_3 : LightGBM"
   ]
  },
  {
   "cell_type": "code",
   "execution_count": null,
   "id": "dc778f6a",
   "metadata": {},
   "outputs": [],
   "source": [
    "# import lightgbm as lgb\n",
    "# lightgbm_params ={'learning_rate':[0.0001, 0.001, 0.003, 0.01, 0.1],\n",
    "#                   'n_estimators':[10,20, 50, 100],\n",
    "#                  'max_depth':[4, 6, 10, 15, 20, 50]}\n",
    "# gbm = lgb.LGBMRegressor(random_state = 42)\n",
    "# clf_gbm = GridSearchCV(gbm, lightgbm_params, cv=5,  scoring='neg_mean_squared_error',n_jobs= 4, verbose = 1)\n",
    "# clf_gbm.fit(train_X, train_y)\n",
    "# print(clf_gbm.best_estimator_)\n",
    "# print(clf_gbm.best_score_)"
   ]
  },
  {
   "cell_type": "code",
   "execution_count": null,
   "id": "691e10f9",
   "metadata": {},
   "outputs": [],
   "source": [
    "# lgbModel_updated = lgb.LGBMRegressor(random_state = 42, learning_rate=0.01, max_depth=4, n_estimators=50)\n",
    "# lgbModel_updated.fit(train_X,train_y)\n",
    "# predictions_lgbModel_updated = lgbModel_updated.predict(val_X)\n",
    "# mae_lgbModel_updated = mean_absolute_error(predictions_lgbModel_updated,val_y)\n",
    "# print(\"MAE on updated LGBM model wiht early stopping= \",mae_lgbModel_updated)\n",
    "# lgbModel_updated_rmse = mean_squared_error(predictions_lgbModel_updated,val_y,squared = False)\n",
    "# print(\"RMSE on LgbModel with early stopping= \",lgbModel_updated_rmse)\n",
    "# print(\"Final Score for comp = \",100*(1-lgbModel_updated_rmse))\n",
    "# score=100*(1-lgbModel_updated_rmse)\n",
    "# scores['LGB'] = score\n",
    "# scores"
   ]
  },
  {
   "cell_type": "markdown",
   "id": "a1fc630a",
   "metadata": {},
   "source": [
    "#### Model_4 : AdaBoost"
   ]
  },
  {
   "cell_type": "code",
   "execution_count": null,
   "id": "c80ba99b",
   "metadata": {},
   "outputs": [],
   "source": [
    "# from sklearn.ensemble import AdaBoostRegressor\n",
    "# adam_boosting_params = {'learning_rate':[0.0001, 0.001, 0.003, 0.01, 0.1,1],\n",
    "#                         'n_estimators':[10,20, 50, 100]}\n",
    "# ada = AdaBoostRegressor(random_state=42)\n",
    "# clf_ada = GridSearchCV(ada, adam_boosting_params, cv=5,  scoring='neg_mean_squared_error',n_jobs= 4, verbose = 1)\n",
    "# clf_ada.fit(train_X, train_y)\n",
    "# print(clf_ada.best_estimator_)\n",
    "# print(clf_ada.best_score_)"
   ]
  },
  {
   "cell_type": "code",
   "execution_count": null,
   "id": "7b689887",
   "metadata": {},
   "outputs": [],
   "source": [
    "# adaModel_updated = AdaBoostRegressor(random_state=42, learning_rate=0.001, n_estimators=100)\n",
    "# adaModel_updated.fit(train_X,train_y)\n",
    "# predictions_adaModel_updated = adaModel_updated.predict(val_X)\n",
    "# mae_adaModel_updated = mean_absolute_error(predictions_adaModel_updated,val_y)\n",
    "# print(\"MAE on updated ADA model wiht early stopping= \",mae_adaModel_updated)\n",
    "# adaModel_updated_rmse = mean_squared_error(predictions_adaModel_updated,val_y,squared = False)\n",
    "# print(\"RMSE on LgbModel with early stopping= \",adaModel_updated_rmse)\n",
    "# print(\"Final Score for comp = \",100*(1-adaModel_updated_rmse))\n",
    "# score=100*(1-adaModel_updated_rmse)\n",
    "# scores['AdaBoost'] = score\n"
   ]
  },
  {
   "cell_type": "markdown",
   "id": "8b58d455",
   "metadata": {},
   "source": [
    "### Elastic Net:"
   ]
  },
  {
   "cell_type": "code",
   "execution_count": null,
   "id": "d9a8e218",
   "metadata": {},
   "outputs": [],
   "source": [
    "# from sklearn.linear_model import ElasticNet\n",
    "# en_model = ElasticNet(alpha = 0.01, l1_ratio = 0.8)   # l1_ratio is the ratio of ridge and lasso regression. Here 20:80\n",
    "# en_model.fit(train_X,train_y)\n",
    "# en_model_prediction = en_model.predict(val_X)\n",
    "# en_model_mae = mean_absolute_error(en_model_prediction,val_y)\n",
    "# print(\"MAE on Elastic Net regression model= \",en_model_mae)\n",
    "# en_model_rmse = mean_squared_error(en_model_prediction,val_y,squared = False)\n",
    "# print(\"RMSE on Elastic Net regression model= \",en_model_rmse)\n",
    "# print(\"Final Score for comp = \",100*(1-en_model_rmse))\n",
    "# scores['ElasticNet'] = score\n",
    "# scores"
   ]
  },
  {
   "cell_type": "markdown",
   "id": "c55c7bb0",
   "metadata": {},
   "source": [
    "### Support Vector Machines:"
   ]
  },
  {
   "cell_type": "code",
   "execution_count": null,
   "id": "698582be",
   "metadata": {},
   "outputs": [],
   "source": [
    "# # Linear Support Vector Regression\n",
    "\n",
    "# from sklearn.svm import LinearSVR\n",
    "# linear_svr_model = LinearSVR(epsilon = 1.5)\n",
    "# linear_svr_model.fit(train_X,train_y)\n",
    "# linear_svr_model_pred = linear_svr_model.predict(val_X)\n",
    "# linear_svr_model_mae = mean_absolute_error(linear_svr_model_pred,val_y)\n",
    "# print(\"MAE on Linear Support Vector regression model= \",linear_svr_model_mae)\n",
    "# linear_svr_model_rmse = mean_squared_error(linear_svr_model_pred,val_y,squared = False)\n",
    "# print(\"RMSE on Linear Support Vector regression model= \",linear_svr_model_rmse)\n",
    "# print(\"Final Score for comp = \",100*(1-linear_svr_model_rmse))"
   ]
  },
  {
   "cell_type": "code",
   "execution_count": null,
   "id": "2d93b6af",
   "metadata": {},
   "outputs": [],
   "source": [
    "# # SVR with poly kernel\n",
    "\n",
    "# from sklearn.svm import SVR\n",
    "# svr_model = SVR(kernel = \"poly\",epsilon = 0.1)\n",
    "# svr_model.fit(train_X,train_y)\n",
    "# svr_model_pred = svr_model.predict(val_X)\n",
    "# svr_model_mae = mean_absolute_error(svr_model_pred,val_y)\n",
    "# print(\"MAE on Support Vector regression model with poly kernel= \",svr_model_mae)\n",
    "# svr_model_rmse = mean_squared_error(svr_model_pred,val_y,squared = False)\n",
    "# print(\"RMSE on Support Vector regression model with poly kernel= \",svr_model_rmse)\n",
    "# print(\"Final Score for comp = \",100*(max(0,1-svr_model_rmse)))\n",
    "# score=100*(max(0,1-svr_model_rmse))\n",
    "# scores['SVR_POLY'] = score\n",
    "# scores"
   ]
  },
  {
   "cell_type": "markdown",
   "id": "d71304f2",
   "metadata": {},
   "source": [
    "### PoissonRegressor:"
   ]
  },
  {
   "cell_type": "code",
   "execution_count": null,
   "id": "c4e8b708",
   "metadata": {},
   "outputs": [],
   "source": [
    "# from sklearn.linear_model import PoissonRegressor\n",
    "\n",
    "# pr_model = PoissonRegressor(max_iter=300)\n",
    "# pr_model.fit(train_X,train_y)\n",
    "# pr_model_pred = pr_model.predict(val_X)\n",
    "# pr_model_mae = mean_absolute_error(pr_model_pred,val_y)\n",
    "# print(\"MAE on Poisson regression model = \",pr_model_mae)\n",
    "# pr_model_rmse = mean_squared_error(pr_model_pred,val_y,squared = False)\n",
    "# print(\"RMSE on Poisson regression model = \",pr_model_rmse)\n",
    "# print(\"Final Score for comp = \",100*(max(0,1-pr_model_rmse)))\n",
    "# score=100*(max(0,1-pr_model_rmse))\n",
    "# scores['PoissonRegressor'] = score\n",
    "# scores"
   ]
  },
  {
   "cell_type": "code",
   "execution_count": null,
   "id": "7a2e2500",
   "metadata": {},
   "outputs": [],
   "source": [
    "# def alpha_tuning_pr(x):\n",
    "#     test_model  = PoissonRegressor(alpha = x,max_iter = 300)\n",
    "#     test_model.fit(train_X,train_y)\n",
    "#     test_pred = test_model.predict(val_X)\n",
    "#     test_rmse = mean_squared_error(pr_model_pred,val_y,squared = False)\n",
    "#     return test_rmse\n",
    "    "
   ]
  },
  {
   "cell_type": "code",
   "execution_count": null,
   "id": "a0a9f772",
   "metadata": {},
   "outputs": [],
   "source": [
    "# rmse_list_pr= []\n",
    "# alpha_list_pr = []\n",
    "# a = 0;\n",
    "# for i in np.arange(1e-15,9e-15, 1e-15):\n",
    "#     rmse_list_pr.append(alpha_tuning_pr(i))\n",
    "#     alpha_list_pr.append(i)\n",
    "#     plt.plot(i,alpha_tuning_pr(i),'bo')\n",
    "    \n",
    "# plt.title(\"RMSE vs alpha for Poisson Regression\")\n",
    "# plt.xlabel(\"alpha\")\n",
    "# plt.ylabel(\"RMSE\")"
   ]
  },
  {
   "cell_type": "markdown",
   "id": "fa3f4b29",
   "metadata": {},
   "source": [
    "**Generally the RSME score doesnt change much with respect to the alpha value of the Poisson Regression model**"
   ]
  },
  {
   "cell_type": "markdown",
   "id": "0847d2b0",
   "metadata": {},
   "source": [
    "### TweedieRegressor "
   ]
  },
  {
   "cell_type": "code",
   "execution_count": null,
   "id": "950f29ba",
   "metadata": {},
   "outputs": [],
   "source": [
    "# from sklearn.linear_model import TweedieRegressor\n",
    "# tr_model = TweedieRegressor(power=0, alpha=1, link='log')\n",
    "# tr_model.fit(train_X,train_y)\n",
    "# tr_model_pred = tr_model.predict(val_X)\n",
    "# tr_model_mae = mean_absolute_error(tr_model_pred,val_y)\n",
    "# print(\"MAE on TweedieRegressor_model = \",tr_model_mae)\n",
    "# tr_model_rmse = mean_squared_error(tr_model_pred,val_y,squared = False)\n",
    "# print(\"RMSE on TweedieRegressor_model = \",tr_model_rmse)\n",
    "# print(\"Final Score for comp = \",100*(max(0,1-tr_model_rmse)))\n",
    "# score=100*(max(0,1-tr_model_rmse))\n",
    "# scores['TweedirRegressor'] = score\n",
    "# scores"
   ]
  },
  {
   "cell_type": "code",
   "execution_count": null,
   "id": "ef1d98fb",
   "metadata": {},
   "outputs": [],
   "source": [
    "# # input dictionary\n",
    "# inputDictionary = scores\n",
    "# # creating an empty list\n",
    "# resultList = []\n",
    "# result1=[]\n",
    "# # traversing through each key value pair of a dictionary using items() function\n",
    "# for key, val in inputDictionary.items():\n",
    "#     resultList.append(key)\n",
    "#     result1.append(val)\n",
    "# # printing the resultant list of a dictionary key-values\n",
    "# print(resultList)\n",
    "# print(result1)"
   ]
  },
  {
   "cell_type": "code",
   "execution_count": null,
   "id": "d6fcf939",
   "metadata": {},
   "outputs": [],
   "source": [
    "# df= pd.DataFrame()\n",
    "# list1 = list(range(10))\n",
    "# list2 = list(range(10,20))\n",
    "# df['ALGORITHM'] = resultList\n",
    "# df['SCORES'] = result1\n",
    "# df"
   ]
  },
  {
   "cell_type": "code",
   "execution_count": null,
   "id": "7312646b",
   "metadata": {},
   "outputs": [],
   "source": [
    "#import pickle"
   ]
  },
  {
   "cell_type": "code",
   "execution_count": null,
   "id": "367a9cea",
   "metadata": {},
   "outputs": [],
   "source": [
    "# with open('etc_model_pickle.pkl','wb') as f:\n",
    "#     pickle.dump(etc_model, f)"
   ]
  },
  {
   "cell_type": "code",
   "execution_count": null,
   "id": "79c455cb",
   "metadata": {},
   "outputs": [],
   "source": [
    "# with open('tweedy_regressor_pickle.pkl','wb') as f:\n",
    "#     pickle.dump(etc_model, f) "
   ]
  }
 ],
 "metadata": {
  "kernelspec": {
   "display_name": "Python 3 (ipykernel)",
   "language": "python",
   "name": "python3"
  },
  "language_info": {
   "codemirror_mode": {
    "name": "ipython",
    "version": 3
   },
   "file_extension": ".py",
   "mimetype": "text/x-python",
   "name": "python",
   "nbconvert_exporter": "python",
   "pygments_lexer": "ipython3",
   "version": "3.9.12"
  }
 },
 "nbformat": 4,
 "nbformat_minor": 5
}
